{
    "cells": [
        {
            "cell_type": "markdown",
            "metadata": {
                "azdata_cell_guid": "77f2a424-67fb-40e1-805d-cfbe7899078b"
            },
            "source": [
                "\n",
                "<center><h1>Data Management Project - NOAA Weather Impact</h1></center>\n",
                "The purpose of this project is to create a database to help analysts understand the effects of weather on bike rentals. This step represents the \"T\" in the \"ETL\" process, where the data is cleaned, transformed, and exported to the repository for loading."
            ]
        },
        {
            "cell_type": "code",
            "execution_count": 1,
            "metadata": {
                "azdata_cell_guid": "51329b61-e000-4ac9-8631-f5078fd29e4d",
                "language": "python"
            },
            "outputs": [],
            "source": [
                "# Data\n",
                "import pandas as pd\n",
                "import numpy as np\n",
                "import math\n",
                "import glob \n",
                "import re\n",
                "from collections import Counter\n",
                "import missingno as msno"
            ]
        },
        {
            "cell_type": "code",
            "execution_count": 2,
            "metadata": {
                "azdata_cell_guid": "3562c370-a871-42df-8c6e-0e71aea1d0c5",
                "language": "python"
            },
            "outputs": [
                {
                    "data": {
                        "text/html": [
                            "<div>\n",
                            "<style scoped>\n",
                            "    .dataframe tbody tr th:only-of-type {\n",
                            "        vertical-align: middle;\n",
                            "    }\n",
                            "\n",
                            "    .dataframe tbody tr th {\n",
                            "        vertical-align: top;\n",
                            "    }\n",
                            "\n",
                            "    .dataframe thead th {\n",
                            "        text-align: right;\n",
                            "    }\n",
                            "</style>\n",
                            "<table border=\"1\" class=\"dataframe\">\n",
                            "  <thead>\n",
                            "    <tr style=\"text-align: right;\">\n",
                            "      <th></th>\n",
                            "      <th>Trip Duration</th>\n",
                            "      <th>Start Time</th>\n",
                            "      <th>Stop Time</th>\n",
                            "      <th>Start Station ID</th>\n",
                            "      <th>Start Station Name</th>\n",
                            "      <th>Start Station Latitude</th>\n",
                            "      <th>Start Station Longitude</th>\n",
                            "      <th>End Station ID</th>\n",
                            "      <th>End Station Name</th>\n",
                            "      <th>End Station Latitude</th>\n",
                            "      <th>End Station Longitude</th>\n",
                            "      <th>Bike ID</th>\n",
                            "      <th>User Type</th>\n",
                            "      <th>Birth Year</th>\n",
                            "      <th>Gender</th>\n",
                            "    </tr>\n",
                            "  </thead>\n",
                            "  <tbody>\n",
                            "    <tr>\n",
                            "      <th>0</th>\n",
                            "      <td>362</td>\n",
                            "      <td>2016-01-01 00:02:52</td>\n",
                            "      <td>2016-01-01 00:08:54</td>\n",
                            "      <td>3186</td>\n",
                            "      <td>Grove St PATH</td>\n",
                            "      <td>40.719586</td>\n",
                            "      <td>-74.043117</td>\n",
                            "      <td>3209</td>\n",
                            "      <td>Brunswick St</td>\n",
                            "      <td>40.724176</td>\n",
                            "      <td>-74.050656</td>\n",
                            "      <td>24647</td>\n",
                            "      <td>Subscriber</td>\n",
                            "      <td>1964.0</td>\n",
                            "      <td>2</td>\n",
                            "    </tr>\n",
                            "    <tr>\n",
                            "      <th>1</th>\n",
                            "      <td>200</td>\n",
                            "      <td>2016-01-01 00:18:22</td>\n",
                            "      <td>2016-01-01 00:21:42</td>\n",
                            "      <td>3186</td>\n",
                            "      <td>Grove St PATH</td>\n",
                            "      <td>40.719586</td>\n",
                            "      <td>-74.043117</td>\n",
                            "      <td>3213</td>\n",
                            "      <td>Van Vorst Park</td>\n",
                            "      <td>40.718489</td>\n",
                            "      <td>-74.047727</td>\n",
                            "      <td>24605</td>\n",
                            "      <td>Subscriber</td>\n",
                            "      <td>1962.0</td>\n",
                            "      <td>1</td>\n",
                            "    </tr>\n",
                            "    <tr>\n",
                            "      <th>2</th>\n",
                            "      <td>202</td>\n",
                            "      <td>2016-01-01 00:18:25</td>\n",
                            "      <td>2016-01-01 00:21:47</td>\n",
                            "      <td>3186</td>\n",
                            "      <td>Grove St PATH</td>\n",
                            "      <td>40.719586</td>\n",
                            "      <td>-74.043117</td>\n",
                            "      <td>3213</td>\n",
                            "      <td>Van Vorst Park</td>\n",
                            "      <td>40.718489</td>\n",
                            "      <td>-74.047727</td>\n",
                            "      <td>24689</td>\n",
                            "      <td>Subscriber</td>\n",
                            "      <td>1962.0</td>\n",
                            "      <td>2</td>\n",
                            "    </tr>\n",
                            "    <tr>\n",
                            "      <th>3</th>\n",
                            "      <td>248</td>\n",
                            "      <td>2016-01-01 00:23:13</td>\n",
                            "      <td>2016-01-01 00:27:21</td>\n",
                            "      <td>3209</td>\n",
                            "      <td>Brunswick St</td>\n",
                            "      <td>40.724176</td>\n",
                            "      <td>-74.050656</td>\n",
                            "      <td>3203</td>\n",
                            "      <td>Hamilton Park</td>\n",
                            "      <td>40.727596</td>\n",
                            "      <td>-74.044247</td>\n",
                            "      <td>24693</td>\n",
                            "      <td>Subscriber</td>\n",
                            "      <td>1984.0</td>\n",
                            "      <td>1</td>\n",
                            "    </tr>\n",
                            "    <tr>\n",
                            "      <th>4</th>\n",
                            "      <td>903</td>\n",
                            "      <td>2016-01-01 01:03:20</td>\n",
                            "      <td>2016-01-01 01:18:24</td>\n",
                            "      <td>3195</td>\n",
                            "      <td>Sip Ave</td>\n",
                            "      <td>40.730743</td>\n",
                            "      <td>-74.063784</td>\n",
                            "      <td>3210</td>\n",
                            "      <td>Pershing Field</td>\n",
                            "      <td>40.742677</td>\n",
                            "      <td>-74.051789</td>\n",
                            "      <td>24573</td>\n",
                            "      <td>Customer</td>\n",
                            "      <td>NaN</td>\n",
                            "      <td>0</td>\n",
                            "    </tr>\n",
                            "  </tbody>\n",
                            "</table>\n",
                            "</div>"
                        ],
                        "text/plain": [
                            "   Trip Duration           Start Time            Stop Time  Start Station ID  \\\n",
                            "0            362  2016-01-01 00:02:52  2016-01-01 00:08:54              3186   \n",
                            "1            200  2016-01-01 00:18:22  2016-01-01 00:21:42              3186   \n",
                            "2            202  2016-01-01 00:18:25  2016-01-01 00:21:47              3186   \n",
                            "3            248  2016-01-01 00:23:13  2016-01-01 00:27:21              3209   \n",
                            "4            903  2016-01-01 01:03:20  2016-01-01 01:18:24              3195   \n",
                            "\n",
                            "  Start Station Name  Start Station Latitude  Start Station Longitude  \\\n",
                            "0      Grove St PATH               40.719586               -74.043117   \n",
                            "1      Grove St PATH               40.719586               -74.043117   \n",
                            "2      Grove St PATH               40.719586               -74.043117   \n",
                            "3       Brunswick St               40.724176               -74.050656   \n",
                            "4            Sip Ave               40.730743               -74.063784   \n",
                            "\n",
                            "   End Station ID End Station Name  End Station Latitude  \\\n",
                            "0            3209     Brunswick St             40.724176   \n",
                            "1            3213   Van Vorst Park             40.718489   \n",
                            "2            3213   Van Vorst Park             40.718489   \n",
                            "3            3203    Hamilton Park             40.727596   \n",
                            "4            3210   Pershing Field             40.742677   \n",
                            "\n",
                            "   End Station Longitude  Bike ID   User Type  Birth Year  Gender  \n",
                            "0             -74.050656    24647  Subscriber      1964.0       2  \n",
                            "1             -74.047727    24605  Subscriber      1962.0       1  \n",
                            "2             -74.047727    24689  Subscriber      1962.0       2  \n",
                            "3             -74.044247    24693  Subscriber      1984.0       1  \n",
                            "4             -74.051789    24573    Customer         NaN       0  "
                        ]
                    },
                    "execution_count": 2,
                    "metadata": {},
                    "output_type": "execute_result"
                }
            ],
            "source": [
                "# Imports all datasets that start with JC-20160 and end with -citibike-tripdata.csv, where * is a wildcard\n",
                "trips = glob.glob('data\\\\JC-20160*-citibike-tripdata.csv') \n",
                "\n",
                "# Initialize an empty list to store the dataframes created from each CSV file\n",
                "trips_list = []\n",
                "\n",
                "# Parse each csv file and transform them into dataframes to append to df list\n",
                "for trip in trips: \n",
                "    data = pd.read_csv(trip)\n",
                "    trips_list.append(data)\n",
                "\n",
                "trips = pd.concat(trips_list)\n",
                "trips.head()"
            ]
        },
        {
            "cell_type": "code",
            "execution_count": 3,
            "metadata": {
                "azdata_cell_guid": "d6a7536f-5c18-4e05-9744-47b0a3ce9f5b",
                "language": "python"
            },
            "outputs": [
                {
                    "data": {
                        "text/html": [
                            "<div>\n",
                            "<style scoped>\n",
                            "    .dataframe tbody tr th:only-of-type {\n",
                            "        vertical-align: middle;\n",
                            "    }\n",
                            "\n",
                            "    .dataframe tbody tr th {\n",
                            "        vertical-align: top;\n",
                            "    }\n",
                            "\n",
                            "    .dataframe thead th {\n",
                            "        text-align: right;\n",
                            "    }\n",
                            "</style>\n",
                            "<table border=\"1\" class=\"dataframe\">\n",
                            "  <thead>\n",
                            "    <tr style=\"text-align: right;\">\n",
                            "      <th></th>\n",
                            "      <th>STATION</th>\n",
                            "      <th>NAME</th>\n",
                            "      <th>DATE</th>\n",
                            "      <th>AWND</th>\n",
                            "      <th>PGTM</th>\n",
                            "      <th>PRCP</th>\n",
                            "      <th>SNOW</th>\n",
                            "      <th>SNWD</th>\n",
                            "      <th>TAVG</th>\n",
                            "      <th>TMAX</th>\n",
                            "      <th>TMIN</th>\n",
                            "      <th>TSUN</th>\n",
                            "      <th>WDF2</th>\n",
                            "      <th>WDF5</th>\n",
                            "      <th>WSF2</th>\n",
                            "      <th>WSF5</th>\n",
                            "    </tr>\n",
                            "  </thead>\n",
                            "  <tbody>\n",
                            "    <tr>\n",
                            "      <th>0</th>\n",
                            "      <td>USW00014734</td>\n",
                            "      <td>NEWARK LIBERTY INTERNATIONAL AIRPORT, NJ US</td>\n",
                            "      <td>2016-01-01</td>\n",
                            "      <td>12.75</td>\n",
                            "      <td>NaN</td>\n",
                            "      <td>0.0</td>\n",
                            "      <td>0.0</td>\n",
                            "      <td>0.0</td>\n",
                            "      <td>41</td>\n",
                            "      <td>43</td>\n",
                            "      <td>34</td>\n",
                            "      <td>NaN</td>\n",
                            "      <td>270</td>\n",
                            "      <td>280.0</td>\n",
                            "      <td>25.9</td>\n",
                            "      <td>35.1</td>\n",
                            "    </tr>\n",
                            "    <tr>\n",
                            "      <th>1</th>\n",
                            "      <td>USW00014734</td>\n",
                            "      <td>NEWARK LIBERTY INTERNATIONAL AIRPORT, NJ US</td>\n",
                            "      <td>2016-01-02</td>\n",
                            "      <td>9.40</td>\n",
                            "      <td>NaN</td>\n",
                            "      <td>0.0</td>\n",
                            "      <td>0.0</td>\n",
                            "      <td>0.0</td>\n",
                            "      <td>36</td>\n",
                            "      <td>42</td>\n",
                            "      <td>30</td>\n",
                            "      <td>NaN</td>\n",
                            "      <td>260</td>\n",
                            "      <td>260.0</td>\n",
                            "      <td>21.0</td>\n",
                            "      <td>25.1</td>\n",
                            "    </tr>\n",
                            "    <tr>\n",
                            "      <th>2</th>\n",
                            "      <td>USW00014734</td>\n",
                            "      <td>NEWARK LIBERTY INTERNATIONAL AIRPORT, NJ US</td>\n",
                            "      <td>2016-01-03</td>\n",
                            "      <td>10.29</td>\n",
                            "      <td>NaN</td>\n",
                            "      <td>0.0</td>\n",
                            "      <td>0.0</td>\n",
                            "      <td>0.0</td>\n",
                            "      <td>37</td>\n",
                            "      <td>47</td>\n",
                            "      <td>28</td>\n",
                            "      <td>NaN</td>\n",
                            "      <td>270</td>\n",
                            "      <td>250.0</td>\n",
                            "      <td>23.9</td>\n",
                            "      <td>30.0</td>\n",
                            "    </tr>\n",
                            "    <tr>\n",
                            "      <th>3</th>\n",
                            "      <td>USW00014734</td>\n",
                            "      <td>NEWARK LIBERTY INTERNATIONAL AIRPORT, NJ US</td>\n",
                            "      <td>2016-01-04</td>\n",
                            "      <td>17.22</td>\n",
                            "      <td>NaN</td>\n",
                            "      <td>0.0</td>\n",
                            "      <td>0.0</td>\n",
                            "      <td>0.0</td>\n",
                            "      <td>32</td>\n",
                            "      <td>35</td>\n",
                            "      <td>14</td>\n",
                            "      <td>NaN</td>\n",
                            "      <td>330</td>\n",
                            "      <td>330.0</td>\n",
                            "      <td>25.9</td>\n",
                            "      <td>33.1</td>\n",
                            "    </tr>\n",
                            "    <tr>\n",
                            "      <th>4</th>\n",
                            "      <td>USW00014734</td>\n",
                            "      <td>NEWARK LIBERTY INTERNATIONAL AIRPORT, NJ US</td>\n",
                            "      <td>2016-01-05</td>\n",
                            "      <td>9.84</td>\n",
                            "      <td>NaN</td>\n",
                            "      <td>0.0</td>\n",
                            "      <td>0.0</td>\n",
                            "      <td>0.0</td>\n",
                            "      <td>19</td>\n",
                            "      <td>31</td>\n",
                            "      <td>10</td>\n",
                            "      <td>NaN</td>\n",
                            "      <td>360</td>\n",
                            "      <td>350.0</td>\n",
                            "      <td>25.1</td>\n",
                            "      <td>31.1</td>\n",
                            "    </tr>\n",
                            "  </tbody>\n",
                            "</table>\n",
                            "</div>"
                        ],
                        "text/plain": [
                            "       STATION                                         NAME        DATE  \\\n",
                            "0  USW00014734  NEWARK LIBERTY INTERNATIONAL AIRPORT, NJ US  2016-01-01   \n",
                            "1  USW00014734  NEWARK LIBERTY INTERNATIONAL AIRPORT, NJ US  2016-01-02   \n",
                            "2  USW00014734  NEWARK LIBERTY INTERNATIONAL AIRPORT, NJ US  2016-01-03   \n",
                            "3  USW00014734  NEWARK LIBERTY INTERNATIONAL AIRPORT, NJ US  2016-01-04   \n",
                            "4  USW00014734  NEWARK LIBERTY INTERNATIONAL AIRPORT, NJ US  2016-01-05   \n",
                            "\n",
                            "    AWND  PGTM  PRCP  SNOW  SNWD  TAVG  TMAX  TMIN  TSUN  WDF2   WDF5  WSF2  \\\n",
                            "0  12.75   NaN   0.0   0.0   0.0    41    43    34   NaN   270  280.0  25.9   \n",
                            "1   9.40   NaN   0.0   0.0   0.0    36    42    30   NaN   260  260.0  21.0   \n",
                            "2  10.29   NaN   0.0   0.0   0.0    37    47    28   NaN   270  250.0  23.9   \n",
                            "3  17.22   NaN   0.0   0.0   0.0    32    35    14   NaN   330  330.0  25.9   \n",
                            "4   9.84   NaN   0.0   0.0   0.0    19    31    10   NaN   360  350.0  25.1   \n",
                            "\n",
                            "   WSF5  \n",
                            "0  35.1  \n",
                            "1  25.1  \n",
                            "2  30.0  \n",
                            "3  33.1  \n",
                            "4  31.1  "
                        ]
                    },
                    "execution_count": 3,
                    "metadata": {},
                    "output_type": "execute_result"
                }
            ],
            "source": [
                "NOAA = pd.read_csv('data\\\\newark_airport_2016.csv')\n",
                "NOAA.head()"
            ]
        },
        {
            "cell_type": "markdown",
            "metadata": {
                "azdata_cell_guid": "0cebee7c-ddc6-4402-be08-2e8db81828ff"
            },
            "source": [
                "## Handling Missing Data"
            ]
        },
        {
            "cell_type": "markdown",
            "metadata": {
                "azdata_cell_guid": "c8be6152-0657-4d60-b8fe-28be051f59ac"
            },
            "source": [
                "#### Trips"
            ]
        },
        {
            "cell_type": "code",
            "execution_count": 4,
            "metadata": {
                "azdata_cell_guid": "d5a53b3a-57db-4ea3-836e-3dc0c0f5779f",
                "language": "python"
            },
            "outputs": [
                {
                    "data": {
                        "text/plain": [
                            "<Axes: >"
                        ]
                    },
                    "execution_count": 4,
                    "metadata": {},
                    "output_type": "execute_result"
                },
                {
                    "data": {
                        "image/png": "[encoded data removed]",
                        "text/plain": [
                            "<Figure size 2500x1000 with 2 Axes>"
                        ]
                    },
                    "metadata": {},
                    "output_type": "display_data"
                }
            ],
            "source": [
                "# Replace any blank rows with null values for imputation, this only works for this dataframe\n",
                "trips.replace([''], np.NaN, inplace=True)\n",
                "\n",
                "msno.matrix(trips)"
            ]
        },
        {
            "cell_type": "code",
            "execution_count": 5,
            "metadata": {
                "azdata_cell_guid": "2ca6b91a-40b0-4f39-bb78-4ee6525a1856",
                "language": "python"
            },
            "outputs": [
                {
                    "data": {
                        "text/plain": [
                            "Trip Duration                  0\n",
                            "Start Time                     0\n",
                            "Stop Time                      0\n",
                            "Start Station ID               0\n",
                            "Start Station Name             0\n",
                            "Start Station Latitude         0\n",
                            "Start Station Longitude        0\n",
                            "End Station ID                 0\n",
                            "End Station Name               0\n",
                            "End Station Latitude           0\n",
                            "End Station Longitude          0\n",
                            "Bike ID                        0\n",
                            "User Type                    240\n",
                            "Birth Year                 15440\n",
                            "Gender                         0\n",
                            "dtype: int64"
                        ]
                    },
                    "execution_count": 5,
                    "metadata": {},
                    "output_type": "execute_result"
                }
            ],
            "source": [
                "trips.isnull().sum()"
            ]
        },
        {
            "cell_type": "code",
            "execution_count": 6,
            "metadata": {
                "azdata_cell_guid": "c7b69f85-d778-4763-ad93-41c316dc8753",
                "language": "python"
            },
            "outputs": [
                {
                    "data": {
                        "text/plain": [
                            "Trip Duration              0\n",
                            "Start Time                 0\n",
                            "Stop Time                  0\n",
                            "Start Station ID           0\n",
                            "Start Station Name         0\n",
                            "Start Station Latitude     0\n",
                            "Start Station Longitude    0\n",
                            "End Station ID             0\n",
                            "End Station Name           0\n",
                            "End Station Latitude       0\n",
                            "End Station Longitude      0\n",
                            "Bike ID                    0\n",
                            "User Type                  0\n",
                            "Birth Year                 0\n",
                            "Gender                     0\n",
                            "dtype: int64"
                        ]
                    },
                    "execution_count": 6,
                    "metadata": {},
                    "output_type": "execute_result"
                }
            ],
            "source": [
                "trips['Birth Year'] = trips['Birth Year'].fillna(trips['Birth Year'].mean())\n",
                "trips['User Type'].replace([np.nan], np.random.choice(['Subscriber', 'Customer']), inplace=True)\n",
                "trips.isnull().sum()"
            ]
        },
        {
            "cell_type": "code",
            "execution_count": 7,
            "metadata": {
                "azdata_cell_guid": "26ddd6fb-9747-47dc-a345-6516be96beab",
                "language": "python"
            },
            "outputs": [
                {
                    "name": "stdout",
                    "output_type": "stream",
                    "text": [
                        "False    181027\n",
                        "Name: count, dtype: int64\n"
                    ]
                }
            ],
            "source": [
                "duplicates = trips.duplicated()\n",
                "print(duplicates.value_counts())"
            ]
        },
        {
            "cell_type": "markdown",
            "metadata": {
                "azdata_cell_guid": "fdd087c9-09eb-4a36-98b2-4c25da095e5f"
            },
            "source": [
                "#### NOAA"
            ]
        },
        {
            "cell_type": "code",
            "execution_count": 8,
            "metadata": {
                "azdata_cell_guid": "0beea8a0-9439-46d8-bda4-6678a71e5786",
                "language": "python"
            },
            "outputs": [
                {
                    "data": {
                        "text/plain": [
                            "<Axes: >"
                        ]
                    },
                    "execution_count": 8,
                    "metadata": {},
                    "output_type": "execute_result"
                },
                {
                    "data": {
                        "image/png": "[encoded data removed]",
                        "text/plain": [
                            "<Figure size 2500x1000 with 2 Axes>"
                        ]
                    },
                    "metadata": {},
                    "output_type": "display_data"
                }
            ],
            "source": [
                "NOAA.replace([''], np.NaN, inplace=True)\n",
                "\n",
                "msno.matrix(NOAA)"
            ]
        },
        {
            "cell_type": "code",
            "execution_count": 9,
            "metadata": {
                "azdata_cell_guid": "ed854868-14ca-4d5e-8ffd-af69e11a083c",
                "language": "python"
            },
            "outputs": [
                {
                    "name": "stdout",
                    "output_type": "stream",
                    "text": [
                        "(366, 16)\n"
                    ]
                },
                {
                    "data": {
                        "text/plain": [
                            "STATION      0\n",
                            "NAME         0\n",
                            "DATE         0\n",
                            "AWND         0\n",
                            "PGTM       366\n",
                            "PRCP         0\n",
                            "SNOW         0\n",
                            "SNWD         0\n",
                            "TAVG         0\n",
                            "TMAX         0\n",
                            "TMIN         0\n",
                            "TSUN       366\n",
                            "WDF2         0\n",
                            "WDF5         2\n",
                            "WSF2         0\n",
                            "WSF5         2\n",
                            "dtype: int64"
                        ]
                    },
                    "execution_count": 9,
                    "metadata": {},
                    "output_type": "execute_result"
                }
            ],
            "source": [
                "print(NOAA.shape)\n",
                "NOAA.isnull().sum()"
            ]
        },
        {
            "cell_type": "code",
            "execution_count": 10,
            "metadata": {
                "azdata_cell_guid": "a6941b77-937f-40ba-9123-2990f6755b5b",
                "language": "python"
            },
            "outputs": [
                {
                    "data": {
                        "text/plain": [
                            "STATION    0\n",
                            "NAME       0\n",
                            "DATE       0\n",
                            "AWND       0\n",
                            "PRCP       0\n",
                            "SNOW       0\n",
                            "SNWD       0\n",
                            "TAVG       0\n",
                            "TMAX       0\n",
                            "TMIN       0\n",
                            "WDF2       0\n",
                            "WDF5       0\n",
                            "WSF2       0\n",
                            "WSF5       0\n",
                            "dtype: int64"
                        ]
                    },
                    "execution_count": 10,
                    "metadata": {},
                    "output_type": "execute_result"
                }
            ],
            "source": [
                "NOAA.drop(columns=['PGTM', 'TSUN'], inplace=True)\n",
                "NOAA['WDF5'] = NOAA['WDF5'].fillna(NOAA['WDF5'].mean())\n",
                "NOAA['WSF5'] = NOAA['WSF5'].fillna(NOAA['WDF5'].mean())\n",
                "NOAA.isnull().sum()"
            ]
        },
        {
            "cell_type": "markdown",
            "metadata": {
                "azdata_cell_guid": "8f6055dc-c93e-4348-88ec-d20a581f9c90"
            },
            "source": [
                "## Data Wrangling"
            ]
        },
        {
            "cell_type": "markdown",
            "metadata": {
                "azdata_cell_guid": "373ca0b9-d22a-4980-92a8-68334ad10ae6"
            },
            "source": [
                "#### Trips"
            ]
        },
        {
            "cell_type": "code",
            "execution_count": 11,
            "metadata": {
                "azdata_cell_guid": "9a9dedbf-15a6-4c5c-a787-fee05c9f9c13",
                "language": "python"
            },
            "outputs": [],
            "source": [
                "trips.columns = trips.columns.str.lower().str.replace(' ', '_')\n",
                "\n",
                "# Rename the trip_duration column to add sec to it in order to provide more clarity that it is in seconds and not in minutes\n",
                "trips.rename(columns={'trip_duration': 'trip_duration_sec'}, inplace=True)"
            ]
        },
        {
            "cell_type": "code",
            "execution_count": 12,
            "metadata": {
                "azdata_cell_guid": "db1f65b6-6338-4814-a7df-2f50ce64f63d",
                "language": "python"
            },
            "outputs": [
                {
                    "name": "stdout",
                    "output_type": "stream",
                    "text": [
                        "<class 'pandas.core.frame.DataFrame'>\n",
                        "Index: 181027 entries, 0 to 33424\n",
                        "Data columns (total 15 columns):\n",
                        " #   Column                   Non-Null Count   Dtype  \n",
                        "---  ------                   --------------   -----  \n",
                        " 0   trip_duration_sec        181027 non-null  int64  \n",
                        " 1   start_time               181027 non-null  object \n",
                        " 2   stop_time                181027 non-null  object \n",
                        " 3   start_station_id         181027 non-null  int64  \n",
                        " 4   start_station_name       181027 non-null  object \n",
                        " 5   start_station_latitude   181027 non-null  float64\n",
                        " 6   start_station_longitude  181027 non-null  float64\n",
                        " 7   end_station_id           181027 non-null  int64  \n",
                        " 8   end_station_name         181027 non-null  object \n",
                        " 9   end_station_latitude     181027 non-null  float64\n",
                        " 10  end_station_longitude    181027 non-null  float64\n",
                        " 11  bike_id                  181027 non-null  int64  \n",
                        " 12  user_type                181027 non-null  object \n",
                        " 13  birth_year               181027 non-null  float64\n",
                        " 14  gender                   181027 non-null  int64  \n",
                        "dtypes: float64(5), int64(5), object(5)\n",
                        "memory usage: 22.1+ MB\n"
                    ]
                }
            ],
            "source": [
                "trips.info()"
            ]
        },
        {
            "cell_type": "code",
            "execution_count": 13,
            "metadata": {
                "azdata_cell_guid": "645f2fe6-91a5-419c-a48c-8bbd36158323",
                "language": "python"
            },
            "outputs": [
                {
                    "name": "stdout",
                    "output_type": "stream",
                    "text": [
                        "<class 'pandas.core.frame.DataFrame'>\n",
                        "Index: 181027 entries, 0 to 33424\n",
                        "Data columns (total 15 columns):\n",
                        " #   Column                   Non-Null Count   Dtype         \n",
                        "---  ------                   --------------   -----         \n",
                        " 0   trip_duration_sec        181027 non-null  int64         \n",
                        " 1   start_time               181027 non-null  datetime64[ns]\n",
                        " 2   stop_time                181027 non-null  datetime64[ns]\n",
                        " 3   start_station_id         181027 non-null  int64         \n",
                        " 4   start_station_name       181027 non-null  object        \n",
                        " 5   start_station_latitude   181027 non-null  float64       \n",
                        " 6   start_station_longitude  181027 non-null  float64       \n",
                        " 7   end_station_id           181027 non-null  int64         \n",
                        " 8   end_station_name         181027 non-null  object        \n",
                        " 9   end_station_latitude     181027 non-null  float64       \n",
                        " 10  end_station_longitude    181027 non-null  float64       \n",
                        " 11  bike_id                  181027 non-null  int64         \n",
                        " 12  user_type                181027 non-null  object        \n",
                        " 13  birth_year               181027 non-null  int32         \n",
                        " 14  gender                   181027 non-null  int64         \n",
                        "dtypes: datetime64[ns](2), float64(4), int32(1), int64(5), object(3)\n",
                        "memory usage: 21.4+ MB\n"
                    ]
                }
            ],
            "source": [
                "# Convert time features to proper data types\n",
                "trips['start_time'] = pd.to_datetime(trips['start_time'])\n",
                "trips['stop_time'] = pd.to_datetime(trips['stop_time'])\n",
                "trips['birth_year'] = trips['birth_year'].astype(int)\n",
                "trips.info()"
            ]
        },
        {
            "cell_type": "code",
            "execution_count": 14,
            "metadata": {
                "azdata_cell_guid": "6bbb1ed5-17fd-4f46-998f-22b9c694f3b8",
                "language": "python"
            },
            "outputs": [
                {
                    "data": {
                        "text/html": [
                            "<div>\n",
                            "<style scoped>\n",
                            "    .dataframe tbody tr th:only-of-type {\n",
                            "        vertical-align: middle;\n",
                            "    }\n",
                            "\n",
                            "    .dataframe tbody tr th {\n",
                            "        vertical-align: top;\n",
                            "    }\n",
                            "\n",
                            "    .dataframe thead th {\n",
                            "        text-align: right;\n",
                            "    }\n",
                            "</style>\n",
                            "<table border=\"1\" class=\"dataframe\">\n",
                            "  <thead>\n",
                            "    <tr style=\"text-align: right;\">\n",
                            "      <th></th>\n",
                            "      <th>trip_duration_sec</th>\n",
                            "      <th>start_time</th>\n",
                            "      <th>stop_time</th>\n",
                            "      <th>start_station_id</th>\n",
                            "      <th>start_station_name</th>\n",
                            "      <th>start_station_latitude</th>\n",
                            "      <th>start_station_longitude</th>\n",
                            "      <th>end_station_id</th>\n",
                            "      <th>end_station_name</th>\n",
                            "      <th>end_station_latitude</th>\n",
                            "      <th>end_station_longitude</th>\n",
                            "      <th>bike_id</th>\n",
                            "      <th>user_type</th>\n",
                            "      <th>birth_year</th>\n",
                            "      <th>gender</th>\n",
                            "    </tr>\n",
                            "  </thead>\n",
                            "  <tbody>\n",
                            "    <tr>\n",
                            "      <th>0</th>\n",
                            "      <td>362</td>\n",
                            "      <td>2016-01-01 00:02:52</td>\n",
                            "      <td>2016-01-01 00:08:54</td>\n",
                            "      <td>3186</td>\n",
                            "      <td>Grove St PATH</td>\n",
                            "      <td>40.719586</td>\n",
                            "      <td>-74.043117</td>\n",
                            "      <td>3209</td>\n",
                            "      <td>Brunswick St</td>\n",
                            "      <td>40.724176</td>\n",
                            "      <td>-74.050656</td>\n",
                            "      <td>24647</td>\n",
                            "      <td>Subscriber</td>\n",
                            "      <td>1964</td>\n",
                            "      <td>2</td>\n",
                            "    </tr>\n",
                            "    <tr>\n",
                            "      <th>1</th>\n",
                            "      <td>200</td>\n",
                            "      <td>2016-01-01 00:18:22</td>\n",
                            "      <td>2016-01-01 00:21:42</td>\n",
                            "      <td>3186</td>\n",
                            "      <td>Grove St PATH</td>\n",
                            "      <td>40.719586</td>\n",
                            "      <td>-74.043117</td>\n",
                            "      <td>3213</td>\n",
                            "      <td>Van Vorst Park</td>\n",
                            "      <td>40.718489</td>\n",
                            "      <td>-74.047727</td>\n",
                            "      <td>24605</td>\n",
                            "      <td>Subscriber</td>\n",
                            "      <td>1962</td>\n",
                            "      <td>1</td>\n",
                            "    </tr>\n",
                            "    <tr>\n",
                            "      <th>2</th>\n",
                            "      <td>202</td>\n",
                            "      <td>2016-01-01 00:18:25</td>\n",
                            "      <td>2016-01-01 00:21:47</td>\n",
                            "      <td>3186</td>\n",
                            "      <td>Grove St PATH</td>\n",
                            "      <td>40.719586</td>\n",
                            "      <td>-74.043117</td>\n",
                            "      <td>3213</td>\n",
                            "      <td>Van Vorst Park</td>\n",
                            "      <td>40.718489</td>\n",
                            "      <td>-74.047727</td>\n",
                            "      <td>24689</td>\n",
                            "      <td>Subscriber</td>\n",
                            "      <td>1962</td>\n",
                            "      <td>2</td>\n",
                            "    </tr>\n",
                            "    <tr>\n",
                            "      <th>3</th>\n",
                            "      <td>248</td>\n",
                            "      <td>2016-01-01 00:23:13</td>\n",
                            "      <td>2016-01-01 00:27:21</td>\n",
                            "      <td>3209</td>\n",
                            "      <td>Brunswick St</td>\n",
                            "      <td>40.724176</td>\n",
                            "      <td>-74.050656</td>\n",
                            "      <td>3203</td>\n",
                            "      <td>Hamilton Park</td>\n",
                            "      <td>40.727596</td>\n",
                            "      <td>-74.044247</td>\n",
                            "      <td>24693</td>\n",
                            "      <td>Subscriber</td>\n",
                            "      <td>1984</td>\n",
                            "      <td>1</td>\n",
                            "    </tr>\n",
                            "    <tr>\n",
                            "      <th>4</th>\n",
                            "      <td>903</td>\n",
                            "      <td>2016-01-01 01:03:20</td>\n",
                            "      <td>2016-01-01 01:18:24</td>\n",
                            "      <td>3195</td>\n",
                            "      <td>Sip Ave</td>\n",
                            "      <td>40.730743</td>\n",
                            "      <td>-74.063784</td>\n",
                            "      <td>3210</td>\n",
                            "      <td>Pershing Field</td>\n",
                            "      <td>40.742677</td>\n",
                            "      <td>-74.051789</td>\n",
                            "      <td>24573</td>\n",
                            "      <td>Customer</td>\n",
                            "      <td>1979</td>\n",
                            "      <td>0</td>\n",
                            "    </tr>\n",
                            "  </tbody>\n",
                            "</table>\n",
                            "</div>"
                        ],
                        "text/plain": [
                            "   trip_duration_sec          start_time           stop_time  \\\n",
                            "0                362 2016-01-01 00:02:52 2016-01-01 00:08:54   \n",
                            "1                200 2016-01-01 00:18:22 2016-01-01 00:21:42   \n",
                            "2                202 2016-01-01 00:18:25 2016-01-01 00:21:47   \n",
                            "3                248 2016-01-01 00:23:13 2016-01-01 00:27:21   \n",
                            "4                903 2016-01-01 01:03:20 2016-01-01 01:18:24   \n",
                            "\n",
                            "   start_station_id start_station_name  start_station_latitude  \\\n",
                            "0              3186      Grove St PATH               40.719586   \n",
                            "1              3186      Grove St PATH               40.719586   \n",
                            "2              3186      Grove St PATH               40.719586   \n",
                            "3              3209       Brunswick St               40.724176   \n",
                            "4              3195            Sip Ave               40.730743   \n",
                            "\n",
                            "   start_station_longitude  end_station_id end_station_name  \\\n",
                            "0               -74.043117            3209     Brunswick St   \n",
                            "1               -74.043117            3213   Van Vorst Park   \n",
                            "2               -74.043117            3213   Van Vorst Park   \n",
                            "3               -74.050656            3203    Hamilton Park   \n",
                            "4               -74.063784            3210   Pershing Field   \n",
                            "\n",
                            "   end_station_latitude  end_station_longitude  bike_id   user_type  \\\n",
                            "0             40.724176             -74.050656    24647  Subscriber   \n",
                            "1             40.718489             -74.047727    24605  Subscriber   \n",
                            "2             40.718489             -74.047727    24689  Subscriber   \n",
                            "3             40.727596             -74.044247    24693  Subscriber   \n",
                            "4             40.742677             -74.051789    24573    Customer   \n",
                            "\n",
                            "   birth_year  gender  \n",
                            "0        1964       2  \n",
                            "1        1962       1  \n",
                            "2        1962       2  \n",
                            "3        1984       1  \n",
                            "4        1979       0  "
                        ]
                    },
                    "execution_count": 14,
                    "metadata": {},
                    "output_type": "execute_result"
                }
            ],
            "source": [
                "trips.head()"
            ]
        },
        {
            "cell_type": "code",
            "execution_count": 15,
            "metadata": {
                "azdata_cell_guid": "2ab7dbbf-978e-489b-b7e4-14e5cba8f907",
                "language": "python"
            },
            "outputs": [
                {
                    "name": "stdout",
                    "output_type": "stream",
                    "text": [
                        "start_station_name\n",
                        "Grove St PATH            20761\n",
                        "Exchange Place           14442\n",
                        "Sip Ave                  12999\n",
                        "Hamilton Park            11326\n",
                        "Newport PATH             10768\n",
                        "Brunswick St              7700\n",
                        "Essex Light Rail          7648\n",
                        "Newport Pkwy              7379\n",
                        "Newark Ave                6932\n",
                        "Van Vorst Park            6593\n",
                        "Warren St                 6385\n",
                        "Paulus Hook               6150\n",
                        "City Hall                 5841\n",
                        "McGinley Square           5385\n",
                        "Liberty Light Rail        5330\n",
                        "JC Medical Center         3626\n",
                        "Baldwin at Montgomery     3596\n",
                        "Morris Canal              2995\n",
                        "Oakland Ave               2874\n",
                        "Pershing Field            2705\n",
                        "Lincoln Park              2629\n",
                        "Marin Light Rail          2182\n",
                        "5 Corners Library         2098\n",
                        "Hilltop                   1987\n",
                        "Christ Hospital           1930\n",
                        "Jersey & 6th St           1811\n",
                        "Central Ave               1803\n",
                        "Dey St                    1726\n",
                        "Jersey & 3rd              1672\n",
                        "Monmouth and 6th          1604\n",
                        "Riverview Park            1405\n",
                        "Heights Elevator          1393\n",
                        "North St                  1322\n",
                        "Columbus Drive            1288\n",
                        "Dixon Mills               1121\n",
                        "Manila & 1st               836\n",
                        "Garfield Ave Station       731\n",
                        "Lafayette Park             378\n",
                        "NJCU                       337\n",
                        "Leonard Gordon Park        293\n",
                        "Bayside Park               281\n",
                        "Union St                   218\n",
                        "MLK Light Rail             197\n",
                        "West Side Light Rail       180\n",
                        "Columbia Park              125\n",
                        "Danforth Light Rail         23\n",
                        "Bethune Center              22\n",
                        "dtype: int64\n"
                    ]
                }
            ],
            "source": [
                "# Most popular starting stations\n",
                "print(trips.groupby(\"start_station_name\").size().sort_values(ascending=False))"
            ]
        },
        {
            "cell_type": "markdown",
            "metadata": {
                "azdata_cell_guid": "8907c4d5-fc9b-4271-bac1-07a452a61381"
            },
            "source": [
                "#### NOAA"
            ]
        },
        {
            "cell_type": "code",
            "execution_count": 16,
            "metadata": {
                "azdata_cell_guid": "af30b0d9-f2e6-4ae0-9776-17fe6d905de3",
                "language": "python"
            },
            "outputs": [
                {
                    "name": "stdout",
                    "output_type": "stream",
                    "text": [
                        "['USW00014734']\n",
                        "['NEWARK LIBERTY INTERNATIONAL AIRPORT, NJ US']\n"
                    ]
                }
            ],
            "source": [
                "print(NOAA.STATION.unique())\n",
                "print(NOAA.NAME.unique())"
            ]
        },
        {
            "cell_type": "code",
            "execution_count": 17,
            "metadata": {
                "azdata_cell_guid": "7ee10106-f87a-4d06-b795-7cfa548aa522",
                "language": "python"
            },
            "outputs": [],
            "source": [
                "NOAA.drop(columns=['STATION', 'NAME'], inplace=True)\n",
                "\n",
                "NOAA.rename(columns={\n",
                "    'DATE': 'date',\n",
                "    'AWND': 'avg_wind', \n",
                "    'PRCP': 'precipitation', \n",
                "    'SNOW': 'snow', \n",
                "    'SNWD': 'snow_depth', \n",
                "    'TAVG': 'avg_temp', \n",
                "    'TMAX': 'max_temp', \n",
                "    'TMIN': 'min_temp', \n",
                "    'WDF2': 'top_wind_dir_2_min', \n",
                "    'WDF5': 'top_wind_dir_5_min', \n",
                "    'WSF2': 'top_wind_speed_2_min',\n",
                "    'WSF5': 'top_wind_speed_5_min',  \n",
                "}, inplace = True)"
            ]
        },
        {
            "cell_type": "code",
            "execution_count": 18,
            "metadata": {
                "azdata_cell_guid": "9e31815f-62b9-4af3-88ce-3af67758d2b6",
                "language": "python"
            },
            "outputs": [
                {
                    "name": "stdout",
                    "output_type": "stream",
                    "text": [
                        "<class 'pandas.core.frame.DataFrame'>\n",
                        "RangeIndex: 366 entries, 0 to 365\n",
                        "Data columns (total 12 columns):\n",
                        " #   Column                Non-Null Count  Dtype  \n",
                        "---  ------                --------------  -----  \n",
                        " 0   date                  366 non-null    object \n",
                        " 1   avg_wind              366 non-null    float64\n",
                        " 2   precipitation         366 non-null    float64\n",
                        " 3   snow                  366 non-null    float64\n",
                        " 4   snow_depth            366 non-null    float64\n",
                        " 5   avg_temp              366 non-null    int64  \n",
                        " 6   max_temp              366 non-null    int64  \n",
                        " 7   min_temp              366 non-null    int64  \n",
                        " 8   top_wind_dir_2_min    366 non-null    int64  \n",
                        " 9   top_wind_dir_5_min    366 non-null    float64\n",
                        " 10  top_wind_speed_2_min  366 non-null    float64\n",
                        " 11  top_wind_speed_5_min  366 non-null    float64\n",
                        "dtypes: float64(7), int64(4), object(1)\n",
                        "memory usage: 34.4+ KB\n"
                    ]
                }
            ],
            "source": [
                "NOAA.info()"
            ]
        },
        {
            "cell_type": "code",
            "execution_count": 19,
            "metadata": {
                "azdata_cell_guid": "bfeceaf9-dc86-46e4-9865-6ded1e5a77e9",
                "language": "python"
            },
            "outputs": [],
            "source": [
                "NOAA['date'] = pd.to_datetime(NOAA['date'])"
            ]
        },
        {
            "cell_type": "code",
            "execution_count": 20,
            "metadata": {
                "azdata_cell_guid": "ee359575-1379-4416-81c9-abba7081d9e5",
                "language": "python"
            },
            "outputs": [
                {
                    "name": "stdout",
                    "output_type": "stream",
                    "text": [
                        "<class 'pandas.core.frame.DataFrame'>\n",
                        "RangeIndex: 366 entries, 0 to 365\n",
                        "Data columns (total 12 columns):\n",
                        " #   Column                Non-Null Count  Dtype         \n",
                        "---  ------                --------------  -----         \n",
                        " 0   date                  366 non-null    datetime64[ns]\n",
                        " 1   avg_wind              366 non-null    float64       \n",
                        " 2   precipitation         366 non-null    float64       \n",
                        " 3   snow                  366 non-null    float64       \n",
                        " 4   snow_depth            366 non-null    float64       \n",
                        " 5   avg_temp              366 non-null    int64         \n",
                        " 6   max_temp              366 non-null    int64         \n",
                        " 7   min_temp              366 non-null    int64         \n",
                        " 8   top_wind_dir_2_min    366 non-null    int64         \n",
                        " 9   top_wind_dir_5_min    366 non-null    float64       \n",
                        " 10  top_wind_speed_2_min  366 non-null    float64       \n",
                        " 11  top_wind_speed_5_min  366 non-null    float64       \n",
                        "dtypes: datetime64[ns](1), float64(7), int64(4)\n",
                        "memory usage: 34.4 KB\n"
                    ]
                }
            ],
            "source": [
                "NOAA.info()"
            ]
        },
        {
            "cell_type": "code",
            "execution_count": 21,
            "metadata": {
                "azdata_cell_guid": "93eb87ed-1e8d-42c4-9542-c2f161bce064",
                "language": "python"
            },
            "outputs": [
                {
                    "data": {
                        "text/html": [
                            "<div>\n",
                            "<style scoped>\n",
                            "    .dataframe tbody tr th:only-of-type {\n",
                            "        vertical-align: middle;\n",
                            "    }\n",
                            "\n",
                            "    .dataframe tbody tr th {\n",
                            "        vertical-align: top;\n",
                            "    }\n",
                            "\n",
                            "    .dataframe thead th {\n",
                            "        text-align: right;\n",
                            "    }\n",
                            "</style>\n",
                            "<table border=\"1\" class=\"dataframe\">\n",
                            "  <thead>\n",
                            "    <tr style=\"text-align: right;\">\n",
                            "      <th></th>\n",
                            "      <th>date</th>\n",
                            "      <th>avg_wind</th>\n",
                            "      <th>precipitation</th>\n",
                            "      <th>snow</th>\n",
                            "      <th>snow_depth</th>\n",
                            "      <th>avg_temp</th>\n",
                            "      <th>max_temp</th>\n",
                            "      <th>min_temp</th>\n",
                            "      <th>top_wind_dir_2_min</th>\n",
                            "      <th>top_wind_dir_5_min</th>\n",
                            "      <th>top_wind_speed_2_min</th>\n",
                            "      <th>top_wind_speed_5_min</th>\n",
                            "    </tr>\n",
                            "  </thead>\n",
                            "  <tbody>\n",
                            "    <tr>\n",
                            "      <th>0</th>\n",
                            "      <td>2016-01-01</td>\n",
                            "      <td>12.75</td>\n",
                            "      <td>0.0</td>\n",
                            "      <td>0.0</td>\n",
                            "      <td>0.0</td>\n",
                            "      <td>41</td>\n",
                            "      <td>43</td>\n",
                            "      <td>34</td>\n",
                            "      <td>270</td>\n",
                            "      <td>280.0</td>\n",
                            "      <td>25.9</td>\n",
                            "      <td>35.1</td>\n",
                            "    </tr>\n",
                            "    <tr>\n",
                            "      <th>1</th>\n",
                            "      <td>2016-01-02</td>\n",
                            "      <td>9.40</td>\n",
                            "      <td>0.0</td>\n",
                            "      <td>0.0</td>\n",
                            "      <td>0.0</td>\n",
                            "      <td>36</td>\n",
                            "      <td>42</td>\n",
                            "      <td>30</td>\n",
                            "      <td>260</td>\n",
                            "      <td>260.0</td>\n",
                            "      <td>21.0</td>\n",
                            "      <td>25.1</td>\n",
                            "    </tr>\n",
                            "    <tr>\n",
                            "      <th>2</th>\n",
                            "      <td>2016-01-03</td>\n",
                            "      <td>10.29</td>\n",
                            "      <td>0.0</td>\n",
                            "      <td>0.0</td>\n",
                            "      <td>0.0</td>\n",
                            "      <td>37</td>\n",
                            "      <td>47</td>\n",
                            "      <td>28</td>\n",
                            "      <td>270</td>\n",
                            "      <td>250.0</td>\n",
                            "      <td>23.9</td>\n",
                            "      <td>30.0</td>\n",
                            "    </tr>\n",
                            "    <tr>\n",
                            "      <th>3</th>\n",
                            "      <td>2016-01-04</td>\n",
                            "      <td>17.22</td>\n",
                            "      <td>0.0</td>\n",
                            "      <td>0.0</td>\n",
                            "      <td>0.0</td>\n",
                            "      <td>32</td>\n",
                            "      <td>35</td>\n",
                            "      <td>14</td>\n",
                            "      <td>330</td>\n",
                            "      <td>330.0</td>\n",
                            "      <td>25.9</td>\n",
                            "      <td>33.1</td>\n",
                            "    </tr>\n",
                            "    <tr>\n",
                            "      <th>4</th>\n",
                            "      <td>2016-01-05</td>\n",
                            "      <td>9.84</td>\n",
                            "      <td>0.0</td>\n",
                            "      <td>0.0</td>\n",
                            "      <td>0.0</td>\n",
                            "      <td>19</td>\n",
                            "      <td>31</td>\n",
                            "      <td>10</td>\n",
                            "      <td>360</td>\n",
                            "      <td>350.0</td>\n",
                            "      <td>25.1</td>\n",
                            "      <td>31.1</td>\n",
                            "    </tr>\n",
                            "  </tbody>\n",
                            "</table>\n",
                            "</div>"
                        ],
                        "text/plain": [
                            "        date  avg_wind  precipitation  snow  snow_depth  avg_temp  max_temp  \\\n",
                            "0 2016-01-01     12.75            0.0   0.0         0.0        41        43   \n",
                            "1 2016-01-02      9.40            0.0   0.0         0.0        36        42   \n",
                            "2 2016-01-03     10.29            0.0   0.0         0.0        37        47   \n",
                            "3 2016-01-04     17.22            0.0   0.0         0.0        32        35   \n",
                            "4 2016-01-05      9.84            0.0   0.0         0.0        19        31   \n",
                            "\n",
                            "   min_temp  top_wind_dir_2_min  top_wind_dir_5_min  top_wind_speed_2_min  \\\n",
                            "0        34                 270               280.0                  25.9   \n",
                            "1        30                 260               260.0                  21.0   \n",
                            "2        28                 270               250.0                  23.9   \n",
                            "3        14                 330               330.0                  25.9   \n",
                            "4        10                 360               350.0                  25.1   \n",
                            "\n",
                            "   top_wind_speed_5_min  \n",
                            "0                  35.1  \n",
                            "1                  25.1  \n",
                            "2                  30.0  \n",
                            "3                  33.1  \n",
                            "4                  31.1  "
                        ]
                    },
                    "execution_count": 21,
                    "metadata": {},
                    "output_type": "execute_result"
                }
            ],
            "source": [
                "NOAA.head()"
            ]
        },
        {
            "cell_type": "code",
            "execution_count": 22,
            "metadata": {
                "azdata_cell_guid": "7fe28934-0372-46a3-9cc1-8bd629d3d6b2",
                "language": "python"
            },
            "outputs": [],
            "source": [
                "NOAA.to_csv('NOAA.csv', index=False)\n",
                "trips.to_csv('trips.csv', index=False)"
            ]
        }
    ],
    "metadata": {
        "kernelspec": {
            "display_name": "Python 3",
            "language": "python",
            "name": "python3"
        },
        "language_info": {
            "codemirror_mode": {
                "name": "ipython",
                "version": 3
            },
            "file_extension": ".py",
            "mimetype": "text/x-python",
            "name": "python",
            "nbconvert_exporter": "python",
            "pygments_lexer": "ipython3",
            "version": "3.12.0"
        }
    },
    "nbformat": 4,
    "nbformat_minor": 2
}
