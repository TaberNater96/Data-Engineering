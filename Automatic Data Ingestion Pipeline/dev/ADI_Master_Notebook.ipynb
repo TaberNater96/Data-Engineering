{
 "cells": [
  {
   "cell_type": "markdown",
   "metadata": {},
   "source": [
    "<h1 style=\"text-align: center;\">Automatic Data Ingestion Pipeline</h1>"
   ]
  },
  {
   "cell_type": "code",
   "execution_count": 2,
   "metadata": {},
   "outputs": [],
   "source": [
    "import sqlite3\n",
    "import pandas as pd\n",
    "from IPython.display import display, HTML\n",
    "import warnings\n",
    "\n",
    "warnings.filterwarnings(\"ignore\")\n",
    "\n",
    "connection = sqlite3.connect(\"cademycode.db\")\n",
    "cursor = connection.cursor()"
   ]
  },
  {
   "cell_type": "code",
   "execution_count": 3,
   "metadata": {},
   "outputs": [
    {
     "name": "stdout",
     "output_type": "stream",
     "text": [
      "[('cademycode_students',), ('cademycode_courses',), ('cademycode_student_jobs',)]\n"
     ]
    }
   ],
   "source": [
    "tables = cursor.execute(\"\"\"\n",
    "SELECT name FROM sqlite_master\n",
    "WHERE type='table';\n",
    "\"\"\").fetchall()\n",
    "print(tables)"
   ]
  },
  {
   "cell_type": "code",
   "execution_count": 4,
   "metadata": {},
   "outputs": [
    {
     "data": {
      "text/html": [
       "<h2 style='margin-left: 16%;'>Courses</h2>"
      ],
      "text/plain": [
       "<IPython.core.display.HTML object>"
      ]
     },
     "metadata": {},
     "output_type": "display_data"
    },
    {
     "name": "stdout",
     "output_type": "stream",
     "text": [
      "(10, 3)\n"
     ]
    },
    {
     "data": {
      "text/html": [
       "<div>\n",
       "<style scoped>\n",
       "    .dataframe tbody tr th:only-of-type {\n",
       "        vertical-align: middle;\n",
       "    }\n",
       "\n",
       "    .dataframe tbody tr th {\n",
       "        vertical-align: top;\n",
       "    }\n",
       "\n",
       "    .dataframe thead th {\n",
       "        text-align: right;\n",
       "    }\n",
       "</style>\n",
       "<table border=\"1\" class=\"dataframe\">\n",
       "  <thead>\n",
       "    <tr style=\"text-align: right;\">\n",
       "      <th></th>\n",
       "      <th>career_path_id</th>\n",
       "      <th>career_path_name</th>\n",
       "      <th>hours_to_complete</th>\n",
       "    </tr>\n",
       "  </thead>\n",
       "  <tbody>\n",
       "    <tr>\n",
       "      <th>0</th>\n",
       "      <td>1</td>\n",
       "      <td>data scientist</td>\n",
       "      <td>20</td>\n",
       "    </tr>\n",
       "    <tr>\n",
       "      <th>1</th>\n",
       "      <td>2</td>\n",
       "      <td>data engineer</td>\n",
       "      <td>20</td>\n",
       "    </tr>\n",
       "    <tr>\n",
       "      <th>2</th>\n",
       "      <td>3</td>\n",
       "      <td>data analyst</td>\n",
       "      <td>12</td>\n",
       "    </tr>\n",
       "    <tr>\n",
       "      <th>3</th>\n",
       "      <td>4</td>\n",
       "      <td>software engineering</td>\n",
       "      <td>25</td>\n",
       "    </tr>\n",
       "    <tr>\n",
       "      <th>4</th>\n",
       "      <td>5</td>\n",
       "      <td>backend engineer</td>\n",
       "      <td>18</td>\n",
       "    </tr>\n",
       "    <tr>\n",
       "      <th>5</th>\n",
       "      <td>6</td>\n",
       "      <td>frontend engineer</td>\n",
       "      <td>20</td>\n",
       "    </tr>\n",
       "    <tr>\n",
       "      <th>6</th>\n",
       "      <td>7</td>\n",
       "      <td>iOS developer</td>\n",
       "      <td>27</td>\n",
       "    </tr>\n",
       "    <tr>\n",
       "      <th>7</th>\n",
       "      <td>8</td>\n",
       "      <td>android developer</td>\n",
       "      <td>27</td>\n",
       "    </tr>\n",
       "    <tr>\n",
       "      <th>8</th>\n",
       "      <td>9</td>\n",
       "      <td>machine learning engineer</td>\n",
       "      <td>35</td>\n",
       "    </tr>\n",
       "    <tr>\n",
       "      <th>9</th>\n",
       "      <td>10</td>\n",
       "      <td>ux/ui designer</td>\n",
       "      <td>15</td>\n",
       "    </tr>\n",
       "  </tbody>\n",
       "</table>\n",
       "</div>"
      ],
      "text/plain": [
       "   career_path_id           career_path_name  hours_to_complete\n",
       "0               1             data scientist                 20\n",
       "1               2              data engineer                 20\n",
       "2               3               data analyst                 12\n",
       "3               4       software engineering                 25\n",
       "4               5           backend engineer                 18\n",
       "5               6          frontend engineer                 20\n",
       "6               7              iOS developer                 27\n",
       "7               8          android developer                 27\n",
       "8               9  machine learning engineer                 35\n",
       "9              10             ux/ui designer                 15"
      ]
     },
     "execution_count": 4,
     "metadata": {},
     "output_type": "execute_result"
    }
   ],
   "source": [
    "courses = pd.read_sql_query(\"\"\"\n",
    "SELECT * FROM cademycode_courses\n",
    "\"\"\", connection)\n",
    "\n",
    "display(HTML(\"<h2 style='margin-left: 16%;'>Courses</h2>\"))\n",
    "print(courses.shape)\n",
    "courses"
   ]
  },
  {
   "cell_type": "code",
   "execution_count": 5,
   "metadata": {},
   "outputs": [
    {
     "name": "stdout",
     "output_type": "stream",
     "text": [
      "There are a total of 0 duplicates in this dataset.\n"
     ]
    }
   ],
   "source": [
    "def duplicates(df):\n",
    "    before = df.shape[0]\n",
    "    df = df.drop_duplicates()\n",
    "    after = df.shape[0]\n",
    "\n",
    "    total_duplicates = before - after\n",
    "    print(f\"There are a total of {total_duplicates} duplicates in this dataset.\")\n",
    "    \n",
    "duplicates(courses)"
   ]
  },
  {
   "cell_type": "code",
   "execution_count": 6,
   "metadata": {},
   "outputs": [
    {
     "name": "stdout",
     "output_type": "stream",
     "text": [
      "<class 'pandas.core.frame.DataFrame'>\n",
      "RangeIndex: 10 entries, 0 to 9\n",
      "Data columns (total 3 columns):\n",
      " #   Column             Non-Null Count  Dtype \n",
      "---  ------             --------------  ----- \n",
      " 0   career_path_id     10 non-null     int64 \n",
      " 1   career_path_name   10 non-null     object\n",
      " 2   hours_to_complete  10 non-null     int64 \n",
      "dtypes: int64(2), object(1)\n",
      "memory usage: 372.0+ bytes\n"
     ]
    }
   ],
   "source": [
    "courses.info()"
   ]
  },
  {
   "cell_type": "code",
   "execution_count": 7,
   "metadata": {},
   "outputs": [
    {
     "name": "stdout",
     "output_type": "stream",
     "text": [
      "<class 'pandas.core.frame.DataFrame'>\n",
      "RangeIndex: 10 entries, 0 to 9\n",
      "Data columns (total 3 columns):\n",
      " #   Column             Non-Null Count  Dtype \n",
      "---  ------             --------------  ----- \n",
      " 0   career_path_id     10 non-null     Int16 \n",
      " 1   career_path_name   10 non-null     string\n",
      " 2   hours_to_complete  10 non-null     int64 \n",
      "dtypes: Int16(1), int64(1), string(1)\n",
      "memory usage: 322.0 bytes\n"
     ]
    }
   ],
   "source": [
    "courses['career_path_id'] = courses['career_path_id'].astype('Int16')\n",
    "courses['career_path_name'] = courses['career_path_name'].astype('string')\n",
    "courses.info()"
   ]
  },
  {
   "cell_type": "code",
   "execution_count": 8,
   "metadata": {},
   "outputs": [
    {
     "data": {
      "text/html": [
       "<h2 style='margin-left: 8%;'>Student Jobs</h2>"
      ],
      "text/plain": [
       "<IPython.core.display.HTML object>"
      ]
     },
     "metadata": {},
     "output_type": "display_data"
    },
    {
     "name": "stdout",
     "output_type": "stream",
     "text": [
      "(13, 3)\n"
     ]
    },
    {
     "data": {
      "text/html": [
       "<div>\n",
       "<style scoped>\n",
       "    .dataframe tbody tr th:only-of-type {\n",
       "        vertical-align: middle;\n",
       "    }\n",
       "\n",
       "    .dataframe tbody tr th {\n",
       "        vertical-align: top;\n",
       "    }\n",
       "\n",
       "    .dataframe thead th {\n",
       "        text-align: right;\n",
       "    }\n",
       "</style>\n",
       "<table border=\"1\" class=\"dataframe\">\n",
       "  <thead>\n",
       "    <tr style=\"text-align: right;\">\n",
       "      <th></th>\n",
       "      <th>job_id</th>\n",
       "      <th>job_category</th>\n",
       "      <th>avg_salary</th>\n",
       "    </tr>\n",
       "  </thead>\n",
       "  <tbody>\n",
       "    <tr>\n",
       "      <th>0</th>\n",
       "      <td>1</td>\n",
       "      <td>analytics</td>\n",
       "      <td>86000</td>\n",
       "    </tr>\n",
       "    <tr>\n",
       "      <th>1</th>\n",
       "      <td>2</td>\n",
       "      <td>engineer</td>\n",
       "      <td>101000</td>\n",
       "    </tr>\n",
       "    <tr>\n",
       "      <th>2</th>\n",
       "      <td>3</td>\n",
       "      <td>software developer</td>\n",
       "      <td>110000</td>\n",
       "    </tr>\n",
       "    <tr>\n",
       "      <th>3</th>\n",
       "      <td>4</td>\n",
       "      <td>creative</td>\n",
       "      <td>66000</td>\n",
       "    </tr>\n",
       "    <tr>\n",
       "      <th>4</th>\n",
       "      <td>5</td>\n",
       "      <td>financial services</td>\n",
       "      <td>135000</td>\n",
       "    </tr>\n",
       "    <tr>\n",
       "      <th>5</th>\n",
       "      <td>6</td>\n",
       "      <td>education</td>\n",
       "      <td>61000</td>\n",
       "    </tr>\n",
       "    <tr>\n",
       "      <th>6</th>\n",
       "      <td>7</td>\n",
       "      <td>HR</td>\n",
       "      <td>80000</td>\n",
       "    </tr>\n",
       "    <tr>\n",
       "      <th>7</th>\n",
       "      <td>8</td>\n",
       "      <td>student</td>\n",
       "      <td>10000</td>\n",
       "    </tr>\n",
       "    <tr>\n",
       "      <th>8</th>\n",
       "      <td>9</td>\n",
       "      <td>healthcare</td>\n",
       "      <td>120000</td>\n",
       "    </tr>\n",
       "    <tr>\n",
       "      <th>9</th>\n",
       "      <td>0</td>\n",
       "      <td>other</td>\n",
       "      <td>80000</td>\n",
       "    </tr>\n",
       "    <tr>\n",
       "      <th>10</th>\n",
       "      <td>3</td>\n",
       "      <td>software developer</td>\n",
       "      <td>110000</td>\n",
       "    </tr>\n",
       "    <tr>\n",
       "      <th>11</th>\n",
       "      <td>4</td>\n",
       "      <td>creative</td>\n",
       "      <td>66000</td>\n",
       "    </tr>\n",
       "    <tr>\n",
       "      <th>12</th>\n",
       "      <td>5</td>\n",
       "      <td>financial services</td>\n",
       "      <td>135000</td>\n",
       "    </tr>\n",
       "  </tbody>\n",
       "</table>\n",
       "</div>"
      ],
      "text/plain": [
       "    job_id        job_category  avg_salary\n",
       "0        1           analytics       86000\n",
       "1        2            engineer      101000\n",
       "2        3  software developer      110000\n",
       "3        4            creative       66000\n",
       "4        5  financial services      135000\n",
       "5        6           education       61000\n",
       "6        7                  HR       80000\n",
       "7        8             student       10000\n",
       "8        9          healthcare      120000\n",
       "9        0               other       80000\n",
       "10       3  software developer      110000\n",
       "11       4            creative       66000\n",
       "12       5  financial services      135000"
      ]
     },
     "execution_count": 8,
     "metadata": {},
     "output_type": "execute_result"
    }
   ],
   "source": [
    "jobs = pd.read_sql_query(\"\"\"\n",
    "SELECT * FROM cademycode_student_jobs\n",
    "\"\"\", connection)\n",
    "\n",
    "display(HTML(\"<h2 style='margin-left: 8%;'>Student Jobs</h2>\"))\n",
    "print(jobs.shape)\n",
    "jobs"
   ]
  },
  {
   "cell_type": "code",
   "execution_count": 9,
   "metadata": {},
   "outputs": [
    {
     "name": "stdout",
     "output_type": "stream",
     "text": [
      "There are a total of 3 duplicates in this dataset.\n"
     ]
    }
   ],
   "source": [
    "def duplicates(df):\n",
    "    before = df.shape[0]\n",
    "    df = df.drop_duplicates()\n",
    "    after = df.shape[0]\n",
    "\n",
    "    total_duplicates = before - after\n",
    "    print(f\"There are a total of {total_duplicates} duplicates in this dataset.\")\n",
    "    \n",
    "duplicates(jobs)"
   ]
  },
  {
   "cell_type": "code",
   "execution_count": 10,
   "metadata": {},
   "outputs": [],
   "source": [
    "jobs = jobs.drop_duplicates()"
   ]
  },
  {
   "cell_type": "code",
   "execution_count": 11,
   "metadata": {},
   "outputs": [
    {
     "name": "stdout",
     "output_type": "stream",
     "text": [
      "<class 'pandas.core.frame.DataFrame'>\n",
      "Index: 10 entries, 0 to 9\n",
      "Data columns (total 3 columns):\n",
      " #   Column        Non-Null Count  Dtype \n",
      "---  ------        --------------  ----- \n",
      " 0   job_id        10 non-null     int64 \n",
      " 1   job_category  10 non-null     object\n",
      " 2   avg_salary    10 non-null     int64 \n",
      "dtypes: int64(2), object(1)\n",
      "memory usage: 320.0+ bytes\n"
     ]
    }
   ],
   "source": [
    "jobs.info()"
   ]
  },
  {
   "cell_type": "code",
   "execution_count": 12,
   "metadata": {},
   "outputs": [
    {
     "name": "stdout",
     "output_type": "stream",
     "text": [
      "<class 'pandas.core.frame.DataFrame'>\n",
      "Index: 10 entries, 0 to 9\n",
      "Data columns (total 3 columns):\n",
      " #   Column        Non-Null Count  Dtype \n",
      "---  ------        --------------  ----- \n",
      " 0   job_id        10 non-null     Int8  \n",
      " 1   job_category  10 non-null     object\n",
      " 2   avg_salary    10 non-null     int64 \n",
      "dtypes: Int8(1), int64(1), object(1)\n",
      "memory usage: 260.0+ bytes\n"
     ]
    }
   ],
   "source": [
    "jobs['job_id'] = jobs['job_id'].astype('Int8')\n",
    "jobs.info()"
   ]
  },
  {
   "cell_type": "code",
   "execution_count": 13,
   "metadata": {},
   "outputs": [
    {
     "data": {
      "text/html": [
       "<h2 style='text-align: center;'>Students</h2>"
      ],
      "text/plain": [
       "<IPython.core.display.HTML object>"
      ]
     },
     "metadata": {},
     "output_type": "display_data"
    },
    {
     "name": "stdout",
     "output_type": "stream",
     "text": [
      "(5000, 9)\n"
     ]
    },
    {
     "data": {
      "text/html": [
       "<div>\n",
       "<style scoped>\n",
       "    .dataframe tbody tr th:only-of-type {\n",
       "        vertical-align: middle;\n",
       "    }\n",
       "\n",
       "    .dataframe tbody tr th {\n",
       "        vertical-align: top;\n",
       "    }\n",
       "\n",
       "    .dataframe thead th {\n",
       "        text-align: right;\n",
       "    }\n",
       "</style>\n",
       "<table border=\"1\" class=\"dataframe\">\n",
       "  <thead>\n",
       "    <tr style=\"text-align: right;\">\n",
       "      <th></th>\n",
       "      <th>uuid</th>\n",
       "      <th>name</th>\n",
       "      <th>dob</th>\n",
       "      <th>sex</th>\n",
       "      <th>contact_info</th>\n",
       "      <th>job_id</th>\n",
       "      <th>num_course_taken</th>\n",
       "      <th>current_career_path_id</th>\n",
       "      <th>time_spent_hrs</th>\n",
       "    </tr>\n",
       "  </thead>\n",
       "  <tbody>\n",
       "    <tr>\n",
       "      <th>0</th>\n",
       "      <td>1</td>\n",
       "      <td>Annabelle Avery</td>\n",
       "      <td>1943-07-03</td>\n",
       "      <td>F</td>\n",
       "      <td>{\"mailing_address\": \"303 N Timber Key, Irondal...</td>\n",
       "      <td>7.0</td>\n",
       "      <td>6.0</td>\n",
       "      <td>1.0</td>\n",
       "      <td>4.99</td>\n",
       "    </tr>\n",
       "    <tr>\n",
       "      <th>1</th>\n",
       "      <td>2</td>\n",
       "      <td>Micah Rubio</td>\n",
       "      <td>1991-02-07</td>\n",
       "      <td>M</td>\n",
       "      <td>{\"mailing_address\": \"767 Crescent Fair, Shoals...</td>\n",
       "      <td>7.0</td>\n",
       "      <td>5.0</td>\n",
       "      <td>8.0</td>\n",
       "      <td>4.4</td>\n",
       "    </tr>\n",
       "    <tr>\n",
       "      <th>2</th>\n",
       "      <td>3</td>\n",
       "      <td>Hosea Dale</td>\n",
       "      <td>1989-12-07</td>\n",
       "      <td>M</td>\n",
       "      <td>{\"mailing_address\": \"P.O. Box 41269, St. Bonav...</td>\n",
       "      <td>7.0</td>\n",
       "      <td>8.0</td>\n",
       "      <td>8.0</td>\n",
       "      <td>6.74</td>\n",
       "    </tr>\n",
       "    <tr>\n",
       "      <th>3</th>\n",
       "      <td>4</td>\n",
       "      <td>Mariann Kirk</td>\n",
       "      <td>1988-07-31</td>\n",
       "      <td>F</td>\n",
       "      <td>{\"mailing_address\": \"517 SE Wintergreen Isle, ...</td>\n",
       "      <td>6.0</td>\n",
       "      <td>7.0</td>\n",
       "      <td>9.0</td>\n",
       "      <td>12.31</td>\n",
       "    </tr>\n",
       "    <tr>\n",
       "      <th>4</th>\n",
       "      <td>5</td>\n",
       "      <td>Lucio Alexander</td>\n",
       "      <td>1963-08-31</td>\n",
       "      <td>M</td>\n",
       "      <td>{\"mailing_address\": \"18 Cinder Cliff, Doyles b...</td>\n",
       "      <td>7.0</td>\n",
       "      <td>14.0</td>\n",
       "      <td>3.0</td>\n",
       "      <td>5.64</td>\n",
       "    </tr>\n",
       "  </tbody>\n",
       "</table>\n",
       "</div>"
      ],
      "text/plain": [
       "   uuid             name         dob sex  \\\n",
       "0     1  Annabelle Avery  1943-07-03   F   \n",
       "1     2      Micah Rubio  1991-02-07   M   \n",
       "2     3       Hosea Dale  1989-12-07   M   \n",
       "3     4     Mariann Kirk  1988-07-31   F   \n",
       "4     5  Lucio Alexander  1963-08-31   M   \n",
       "\n",
       "                                        contact_info job_id num_course_taken  \\\n",
       "0  {\"mailing_address\": \"303 N Timber Key, Irondal...    7.0              6.0   \n",
       "1  {\"mailing_address\": \"767 Crescent Fair, Shoals...    7.0              5.0   \n",
       "2  {\"mailing_address\": \"P.O. Box 41269, St. Bonav...    7.0              8.0   \n",
       "3  {\"mailing_address\": \"517 SE Wintergreen Isle, ...    6.0              7.0   \n",
       "4  {\"mailing_address\": \"18 Cinder Cliff, Doyles b...    7.0             14.0   \n",
       "\n",
       "  current_career_path_id time_spent_hrs  \n",
       "0                    1.0           4.99  \n",
       "1                    8.0            4.4  \n",
       "2                    8.0           6.74  \n",
       "3                    9.0          12.31  \n",
       "4                    3.0           5.64  "
      ]
     },
     "execution_count": 13,
     "metadata": {},
     "output_type": "execute_result"
    }
   ],
   "source": [
    "students = pd.read_sql_query(\"\"\"\n",
    "SELECT * FROM cademycode_students\n",
    "\"\"\", connection)\n",
    "\n",
    "display(HTML(\"<h2 style='text-align: center;'>Students</h2>\"))\n",
    "print(students.shape)\n",
    "students.head()"
   ]
  },
  {
   "cell_type": "code",
   "execution_count": 14,
   "metadata": {},
   "outputs": [
    {
     "name": "stdout",
     "output_type": "stream",
     "text": [
      "<class 'pandas.core.frame.DataFrame'>\n",
      "RangeIndex: 5000 entries, 0 to 4999\n",
      "Data columns (total 9 columns):\n",
      " #   Column                  Non-Null Count  Dtype \n",
      "---  ------                  --------------  ----- \n",
      " 0   uuid                    5000 non-null   int64 \n",
      " 1   name                    5000 non-null   object\n",
      " 2   dob                     5000 non-null   object\n",
      " 3   sex                     5000 non-null   object\n",
      " 4   contact_info            5000 non-null   object\n",
      " 5   job_id                  4995 non-null   object\n",
      " 6   num_course_taken        4749 non-null   object\n",
      " 7   current_career_path_id  4529 non-null   object\n",
      " 8   time_spent_hrs          4529 non-null   object\n",
      "dtypes: int64(1), object(8)\n",
      "memory usage: 351.7+ KB\n"
     ]
    }
   ],
   "source": [
    "students.info()"
   ]
  },
  {
   "cell_type": "code",
   "execution_count": 15,
   "metadata": {},
   "outputs": [
    {
     "name": "stdout",
     "output_type": "stream",
     "text": [
      "<class 'pandas.core.frame.DataFrame'>\n",
      "RangeIndex: 5000 entries, 0 to 4999\n",
      "Data columns (total 9 columns):\n",
      " #   Column                  Non-Null Count  Dtype         \n",
      "---  ------                  --------------  -----         \n",
      " 0   uuid                    5000 non-null   int64         \n",
      " 1   name                    5000 non-null   string        \n",
      " 2   dob                     5000 non-null   datetime64[ns]\n",
      " 3   sex                     5000 non-null   category      \n",
      " 4   contact_info            5000 non-null   object        \n",
      " 5   job_id                  4995 non-null   Int8          \n",
      " 6   num_course_taken        4749 non-null   Int64         \n",
      " 7   current_career_path_id  4529 non-null   Int16         \n",
      " 8   time_spent_hrs          4529 non-null   Float64       \n",
      "dtypes: Float64(1), Int16(1), Int64(1), Int8(1), category(1), datetime64[ns](1), int64(1), object(1), string(1)\n",
      "memory usage: 273.7+ KB\n"
     ]
    }
   ],
   "source": [
    "students['name'] = students['name'].astype('string')\n",
    "students['dob'] = pd.to_datetime(students['dob'])\n",
    "students['sex'] = students['sex'].astype('category')\n",
    "students['job_id'] = pd.to_numeric(students['job_id'], errors='coerce').astype('Int8')\n",
    "students['num_course_taken'] = pd.to_numeric(students['num_course_taken'], errors='coerce').astype('Int64')\n",
    "students['current_career_path_id'] = pd.to_numeric(students['current_career_path_id'], errors='coerce').astype('Int16')\n",
    "students['time_spent_hrs'] = pd.to_numeric(students['time_spent_hrs'], errors='coerce').astype('Float64')\n",
    "\n",
    "students.info()"
   ]
  },
  {
   "cell_type": "markdown",
   "metadata": {},
   "source": [
    "## Merge"
   ]
  },
  {
   "cell_type": "code",
   "execution_count": 16,
   "metadata": {},
   "outputs": [
    {
     "data": {
      "text/html": [
       "<div>\n",
       "<style scoped>\n",
       "    .dataframe tbody tr th:only-of-type {\n",
       "        vertical-align: middle;\n",
       "    }\n",
       "\n",
       "    .dataframe tbody tr th {\n",
       "        vertical-align: top;\n",
       "    }\n",
       "\n",
       "    .dataframe thead th {\n",
       "        text-align: right;\n",
       "    }\n",
       "</style>\n",
       "<table border=\"1\" class=\"dataframe\">\n",
       "  <thead>\n",
       "    <tr style=\"text-align: right;\">\n",
       "      <th></th>\n",
       "      <th>uuid</th>\n",
       "      <th>name</th>\n",
       "      <th>dob</th>\n",
       "      <th>sex</th>\n",
       "      <th>contact_info</th>\n",
       "      <th>num_course_taken</th>\n",
       "      <th>time_spent_hrs</th>\n",
       "      <th>career_path_name</th>\n",
       "      <th>hours_to_complete</th>\n",
       "      <th>job_category</th>\n",
       "      <th>avg_salary</th>\n",
       "    </tr>\n",
       "  </thead>\n",
       "  <tbody>\n",
       "    <tr>\n",
       "      <th>0</th>\n",
       "      <td>1</td>\n",
       "      <td>Annabelle Avery</td>\n",
       "      <td>1943-07-03</td>\n",
       "      <td>F</td>\n",
       "      <td>{\"mailing_address\": \"303 N Timber Key, Irondal...</td>\n",
       "      <td>6</td>\n",
       "      <td>4.99</td>\n",
       "      <td>data scientist</td>\n",
       "      <td>20.0</td>\n",
       "      <td>HR</td>\n",
       "      <td>80000.0</td>\n",
       "    </tr>\n",
       "    <tr>\n",
       "      <th>1</th>\n",
       "      <td>2</td>\n",
       "      <td>Micah Rubio</td>\n",
       "      <td>1991-02-07</td>\n",
       "      <td>M</td>\n",
       "      <td>{\"mailing_address\": \"767 Crescent Fair, Shoals...</td>\n",
       "      <td>5</td>\n",
       "      <td>4.4</td>\n",
       "      <td>android developer</td>\n",
       "      <td>27.0</td>\n",
       "      <td>HR</td>\n",
       "      <td>80000.0</td>\n",
       "    </tr>\n",
       "    <tr>\n",
       "      <th>2</th>\n",
       "      <td>3</td>\n",
       "      <td>Hosea Dale</td>\n",
       "      <td>1989-12-07</td>\n",
       "      <td>M</td>\n",
       "      <td>{\"mailing_address\": \"P.O. Box 41269, St. Bonav...</td>\n",
       "      <td>8</td>\n",
       "      <td>6.74</td>\n",
       "      <td>android developer</td>\n",
       "      <td>27.0</td>\n",
       "      <td>HR</td>\n",
       "      <td>80000.0</td>\n",
       "    </tr>\n",
       "    <tr>\n",
       "      <th>3</th>\n",
       "      <td>4</td>\n",
       "      <td>Mariann Kirk</td>\n",
       "      <td>1988-07-31</td>\n",
       "      <td>F</td>\n",
       "      <td>{\"mailing_address\": \"517 SE Wintergreen Isle, ...</td>\n",
       "      <td>7</td>\n",
       "      <td>12.31</td>\n",
       "      <td>machine learning engineer</td>\n",
       "      <td>35.0</td>\n",
       "      <td>education</td>\n",
       "      <td>61000.0</td>\n",
       "    </tr>\n",
       "    <tr>\n",
       "      <th>4</th>\n",
       "      <td>5</td>\n",
       "      <td>Lucio Alexander</td>\n",
       "      <td>1963-08-31</td>\n",
       "      <td>M</td>\n",
       "      <td>{\"mailing_address\": \"18 Cinder Cliff, Doyles b...</td>\n",
       "      <td>14</td>\n",
       "      <td>5.64</td>\n",
       "      <td>data analyst</td>\n",
       "      <td>12.0</td>\n",
       "      <td>HR</td>\n",
       "      <td>80000.0</td>\n",
       "    </tr>\n",
       "  </tbody>\n",
       "</table>\n",
       "</div>"
      ],
      "text/plain": [
       "   uuid             name        dob sex  \\\n",
       "0     1  Annabelle Avery 1943-07-03   F   \n",
       "1     2      Micah Rubio 1991-02-07   M   \n",
       "2     3       Hosea Dale 1989-12-07   M   \n",
       "3     4     Mariann Kirk 1988-07-31   F   \n",
       "4     5  Lucio Alexander 1963-08-31   M   \n",
       "\n",
       "                                        contact_info  num_course_taken  \\\n",
       "0  {\"mailing_address\": \"303 N Timber Key, Irondal...                 6   \n",
       "1  {\"mailing_address\": \"767 Crescent Fair, Shoals...                 5   \n",
       "2  {\"mailing_address\": \"P.O. Box 41269, St. Bonav...                 8   \n",
       "3  {\"mailing_address\": \"517 SE Wintergreen Isle, ...                 7   \n",
       "4  {\"mailing_address\": \"18 Cinder Cliff, Doyles b...                14   \n",
       "\n",
       "   time_spent_hrs           career_path_name  hours_to_complete job_category  \\\n",
       "0            4.99             data scientist               20.0           HR   \n",
       "1             4.4          android developer               27.0           HR   \n",
       "2            6.74          android developer               27.0           HR   \n",
       "3           12.31  machine learning engineer               35.0    education   \n",
       "4            5.64               data analyst               12.0           HR   \n",
       "\n",
       "   avg_salary  \n",
       "0     80000.0  \n",
       "1     80000.0  \n",
       "2     80000.0  \n",
       "3     61000.0  \n",
       "4     80000.0  "
      ]
     },
     "execution_count": 16,
     "metadata": {},
     "output_type": "execute_result"
    }
   ],
   "source": [
    "# First, merge students with courses\n",
    "df = pd.merge(\n",
    "    students, \n",
    "    courses, \n",
    "    left_on='current_career_path_id', \n",
    "    right_on='career_path_id', \n",
    "    how='left'\n",
    ")\n",
    "\n",
    "# Then merge with jobs\n",
    "df = pd.merge(\n",
    "    df, \n",
    "    jobs, \n",
    "    left_on='job_id', \n",
    "    right_on='job_id', \n",
    "    how='left'\n",
    ")\n",
    "\n",
    "# Drop the redundant columns\n",
    "df = df.drop(\n",
    "    [\n",
    "        'current_career_path_id', \n",
    "        'career_path_id', \n",
    "        'job_id'\n",
    "    ], \n",
    "    axis=1\n",
    ")\n",
    "df.head()"
   ]
  },
  {
   "cell_type": "markdown",
   "metadata": {},
   "source": [
    "## Reorder and Rename"
   ]
  },
  {
   "cell_type": "code",
   "execution_count": 17,
   "metadata": {},
   "outputs": [
    {
     "data": {
      "text/html": [
       "<h2 style='text-align: center;'>Cademy</h2>"
      ],
      "text/plain": [
       "<IPython.core.display.HTML object>"
      ]
     },
     "metadata": {},
     "output_type": "display_data"
    },
    {
     "name": "stdout",
     "output_type": "stream",
     "text": [
      "(5000, 11)\n"
     ]
    },
    {
     "data": {
      "text/html": [
       "<div>\n",
       "<style scoped>\n",
       "    .dataframe tbody tr th:only-of-type {\n",
       "        vertical-align: middle;\n",
       "    }\n",
       "\n",
       "    .dataframe tbody tr th {\n",
       "        vertical-align: top;\n",
       "    }\n",
       "\n",
       "    .dataframe thead th {\n",
       "        text-align: right;\n",
       "    }\n",
       "</style>\n",
       "<table border=\"1\" class=\"dataframe\">\n",
       "  <thead>\n",
       "    <tr style=\"text-align: right;\">\n",
       "      <th></th>\n",
       "      <th>uuid</th>\n",
       "      <th>name</th>\n",
       "      <th>dob</th>\n",
       "      <th>sex</th>\n",
       "      <th>contact_info</th>\n",
       "      <th>course_name</th>\n",
       "      <th>num_courses_taken</th>\n",
       "      <th>hours_to_complete</th>\n",
       "      <th>time_spent_hrs</th>\n",
       "      <th>job</th>\n",
       "      <th>avg_salary</th>\n",
       "    </tr>\n",
       "  </thead>\n",
       "  <tbody>\n",
       "    <tr>\n",
       "      <th>0</th>\n",
       "      <td>1</td>\n",
       "      <td>Annabelle Avery</td>\n",
       "      <td>1943-07-03</td>\n",
       "      <td>F</td>\n",
       "      <td>{\"mailing_address\": \"303 N Timber Key, Irondal...</td>\n",
       "      <td>data scientist</td>\n",
       "      <td>6</td>\n",
       "      <td>20.0</td>\n",
       "      <td>4.99</td>\n",
       "      <td>HR</td>\n",
       "      <td>80000.0</td>\n",
       "    </tr>\n",
       "    <tr>\n",
       "      <th>1</th>\n",
       "      <td>2</td>\n",
       "      <td>Micah Rubio</td>\n",
       "      <td>1991-02-07</td>\n",
       "      <td>M</td>\n",
       "      <td>{\"mailing_address\": \"767 Crescent Fair, Shoals...</td>\n",
       "      <td>android developer</td>\n",
       "      <td>5</td>\n",
       "      <td>27.0</td>\n",
       "      <td>4.4</td>\n",
       "      <td>HR</td>\n",
       "      <td>80000.0</td>\n",
       "    </tr>\n",
       "    <tr>\n",
       "      <th>2</th>\n",
       "      <td>3</td>\n",
       "      <td>Hosea Dale</td>\n",
       "      <td>1989-12-07</td>\n",
       "      <td>M</td>\n",
       "      <td>{\"mailing_address\": \"P.O. Box 41269, St. Bonav...</td>\n",
       "      <td>android developer</td>\n",
       "      <td>8</td>\n",
       "      <td>27.0</td>\n",
       "      <td>6.74</td>\n",
       "      <td>HR</td>\n",
       "      <td>80000.0</td>\n",
       "    </tr>\n",
       "    <tr>\n",
       "      <th>3</th>\n",
       "      <td>4</td>\n",
       "      <td>Mariann Kirk</td>\n",
       "      <td>1988-07-31</td>\n",
       "      <td>F</td>\n",
       "      <td>{\"mailing_address\": \"517 SE Wintergreen Isle, ...</td>\n",
       "      <td>machine learning engineer</td>\n",
       "      <td>7</td>\n",
       "      <td>35.0</td>\n",
       "      <td>12.31</td>\n",
       "      <td>education</td>\n",
       "      <td>61000.0</td>\n",
       "    </tr>\n",
       "    <tr>\n",
       "      <th>4</th>\n",
       "      <td>5</td>\n",
       "      <td>Lucio Alexander</td>\n",
       "      <td>1963-08-31</td>\n",
       "      <td>M</td>\n",
       "      <td>{\"mailing_address\": \"18 Cinder Cliff, Doyles b...</td>\n",
       "      <td>data analyst</td>\n",
       "      <td>14</td>\n",
       "      <td>12.0</td>\n",
       "      <td>5.64</td>\n",
       "      <td>HR</td>\n",
       "      <td>80000.0</td>\n",
       "    </tr>\n",
       "  </tbody>\n",
       "</table>\n",
       "</div>"
      ],
      "text/plain": [
       "   uuid             name        dob sex  \\\n",
       "0     1  Annabelle Avery 1943-07-03   F   \n",
       "1     2      Micah Rubio 1991-02-07   M   \n",
       "2     3       Hosea Dale 1989-12-07   M   \n",
       "3     4     Mariann Kirk 1988-07-31   F   \n",
       "4     5  Lucio Alexander 1963-08-31   M   \n",
       "\n",
       "                                        contact_info  \\\n",
       "0  {\"mailing_address\": \"303 N Timber Key, Irondal...   \n",
       "1  {\"mailing_address\": \"767 Crescent Fair, Shoals...   \n",
       "2  {\"mailing_address\": \"P.O. Box 41269, St. Bonav...   \n",
       "3  {\"mailing_address\": \"517 SE Wintergreen Isle, ...   \n",
       "4  {\"mailing_address\": \"18 Cinder Cliff, Doyles b...   \n",
       "\n",
       "                 course_name  num_courses_taken  hours_to_complete  \\\n",
       "0             data scientist                  6               20.0   \n",
       "1          android developer                  5               27.0   \n",
       "2          android developer                  8               27.0   \n",
       "3  machine learning engineer                  7               35.0   \n",
       "4               data analyst                 14               12.0   \n",
       "\n",
       "   time_spent_hrs        job  avg_salary  \n",
       "0            4.99         HR     80000.0  \n",
       "1             4.4         HR     80000.0  \n",
       "2            6.74         HR     80000.0  \n",
       "3           12.31  education     61000.0  \n",
       "4            5.64         HR     80000.0  "
      ]
     },
     "execution_count": 17,
     "metadata": {},
     "output_type": "execute_result"
    }
   ],
   "source": [
    "# Reorder\n",
    "df = df[[\n",
    "    'uuid', \n",
    "    'name', \n",
    "    'dob', \n",
    "    'sex', \n",
    "    'contact_info', \n",
    "    'career_path_name',\n",
    "    'num_course_taken', \n",
    "    'hours_to_complete',\n",
    "    'time_spent_hrs', \n",
    "    'job_category', \n",
    "    'avg_salary'\n",
    "]]\n",
    "\n",
    "df.rename(columns = {\n",
    "    'career_path_name': 'course_name', \n",
    "    'job_category': 'job',\n",
    "    'num_course_taken': 'num_courses_taken'\n",
    "    }, inplace = True\n",
    ")\n",
    "\n",
    "display(HTML(\"<h2 style='text-align: center;'>Cademy</h2>\"))\n",
    "print(df.shape)\n",
    "df.head()"
   ]
  },
  {
   "cell_type": "markdown",
   "metadata": {},
   "source": [
    "## Manipulating Missing Data"
   ]
  },
  {
   "cell_type": "code",
   "execution_count": 18,
   "metadata": {},
   "outputs": [
    {
     "data": {
      "text/plain": [
       "<Axes: title={'center': 'Total Null Values'}>"
      ]
     },
     "execution_count": 18,
     "metadata": {},
     "output_type": "execute_result"
    },
    {
     "data": {
      "image/png": "[encoded data removed]",
      "text/plain": [
       "<Figure size 640x480 with 1 Axes>"
      ]
     },
     "metadata": {},
     "output_type": "display_data"
    }
   ],
   "source": [
    "df.isna().sum().plot(title = \"Total Null Values\",kind = 'bar')"
   ]
  },
  {
   "cell_type": "code",
   "execution_count": 19,
   "metadata": {},
   "outputs": [
    {
     "data": {
      "text/html": [
       "<h4 style='margin-left: 5%;'>Total Null Values</h4>"
      ],
      "text/plain": [
       "<IPython.core.display.HTML object>"
      ]
     },
     "metadata": {},
     "output_type": "display_data"
    },
    {
     "data": {
      "text/plain": [
       "uuid                   0\n",
       "name                   0\n",
       "dob                    0\n",
       "sex                    0\n",
       "contact_info           0\n",
       "course_name          471\n",
       "num_courses_taken    251\n",
       "hours_to_complete    471\n",
       "time_spent_hrs       471\n",
       "job                    5\n",
       "avg_salary             5\n",
       "dtype: int64"
      ]
     },
     "execution_count": 19,
     "metadata": {},
     "output_type": "execute_result"
    }
   ],
   "source": [
    "display(HTML(\"<h4 style='margin-left: 5%;'>Total Null Values</h4>\"))\n",
    "df.isnull().sum()"
   ]
  },
  {
   "cell_type": "code",
   "execution_count": 20,
   "metadata": {},
   "outputs": [
    {
     "data": {
      "text/html": [
       "<div>\n",
       "<style scoped>\n",
       "    .dataframe tbody tr th:only-of-type {\n",
       "        vertical-align: middle;\n",
       "    }\n",
       "\n",
       "    .dataframe tbody tr th {\n",
       "        vertical-align: top;\n",
       "    }\n",
       "\n",
       "    .dataframe thead th {\n",
       "        text-align: right;\n",
       "    }\n",
       "</style>\n",
       "<table border=\"1\" class=\"dataframe\">\n",
       "  <thead>\n",
       "    <tr style=\"text-align: right;\">\n",
       "      <th></th>\n",
       "      <th>uuid</th>\n",
       "      <th>name</th>\n",
       "      <th>dob</th>\n",
       "      <th>sex</th>\n",
       "      <th>contact_info</th>\n",
       "      <th>course_name</th>\n",
       "      <th>num_courses_taken</th>\n",
       "      <th>hours_to_complete</th>\n",
       "      <th>time_spent_hrs</th>\n",
       "      <th>job</th>\n",
       "      <th>avg_salary</th>\n",
       "    </tr>\n",
       "  </thead>\n",
       "  <tbody>\n",
       "    <tr>\n",
       "      <th>15</th>\n",
       "      <td>16</td>\n",
       "      <td>Norene Dalton</td>\n",
       "      <td>1976-04-30</td>\n",
       "      <td>F</td>\n",
       "      <td>{\"mailing_address\": \"130 Wishing Essex, Branch...</td>\n",
       "      <td>&lt;NA&gt;</td>\n",
       "      <td>0</td>\n",
       "      <td>NaN</td>\n",
       "      <td>&lt;NA&gt;</td>\n",
       "      <td>education</td>\n",
       "      <td>61000.0</td>\n",
       "    </tr>\n",
       "    <tr>\n",
       "      <th>19</th>\n",
       "      <td>20</td>\n",
       "      <td>Sofia van Steenbergen</td>\n",
       "      <td>1990-02-21</td>\n",
       "      <td>N</td>\n",
       "      <td>{\"mailing_address\": \"634 Clear Barn Dell, Beam...</td>\n",
       "      <td>&lt;NA&gt;</td>\n",
       "      <td>13</td>\n",
       "      <td>NaN</td>\n",
       "      <td>&lt;NA&gt;</td>\n",
       "      <td>HR</td>\n",
       "      <td>80000.0</td>\n",
       "    </tr>\n",
       "    <tr>\n",
       "      <th>30</th>\n",
       "      <td>31</td>\n",
       "      <td>Christoper Warner</td>\n",
       "      <td>1989-12-28</td>\n",
       "      <td>M</td>\n",
       "      <td>{\"mailing_address\": \"556 Stony Highlands, Drai...</td>\n",
       "      <td>&lt;NA&gt;</td>\n",
       "      <td>5</td>\n",
       "      <td>NaN</td>\n",
       "      <td>&lt;NA&gt;</td>\n",
       "      <td>engineer</td>\n",
       "      <td>101000.0</td>\n",
       "    </tr>\n",
       "    <tr>\n",
       "      <th>49</th>\n",
       "      <td>50</td>\n",
       "      <td>Antony Horne</td>\n",
       "      <td>1996-05-29</td>\n",
       "      <td>M</td>\n",
       "      <td>{\"mailing_address\": \"P.O. Box 78685, Lenox, Te...</td>\n",
       "      <td>&lt;NA&gt;</td>\n",
       "      <td>2</td>\n",
       "      <td>NaN</td>\n",
       "      <td>&lt;NA&gt;</td>\n",
       "      <td>software developer</td>\n",
       "      <td>110000.0</td>\n",
       "    </tr>\n",
       "    <tr>\n",
       "      <th>54</th>\n",
       "      <td>55</td>\n",
       "      <td>Omar Bunk</td>\n",
       "      <td>1955-11-08</td>\n",
       "      <td>M</td>\n",
       "      <td>{\"mailing_address\": \"445 Dale Hollow, Vermont ...</td>\n",
       "      <td>&lt;NA&gt;</td>\n",
       "      <td>14</td>\n",
       "      <td>NaN</td>\n",
       "      <td>&lt;NA&gt;</td>\n",
       "      <td>software developer</td>\n",
       "      <td>110000.0</td>\n",
       "    </tr>\n",
       "  </tbody>\n",
       "</table>\n",
       "</div>"
      ],
      "text/plain": [
       "    uuid                   name        dob sex  \\\n",
       "15    16          Norene Dalton 1976-04-30   F   \n",
       "19    20  Sofia van Steenbergen 1990-02-21   N   \n",
       "30    31      Christoper Warner 1989-12-28   M   \n",
       "49    50           Antony Horne 1996-05-29   M   \n",
       "54    55              Omar Bunk 1955-11-08   M   \n",
       "\n",
       "                                         contact_info course_name  \\\n",
       "15  {\"mailing_address\": \"130 Wishing Essex, Branch...        <NA>   \n",
       "19  {\"mailing_address\": \"634 Clear Barn Dell, Beam...        <NA>   \n",
       "30  {\"mailing_address\": \"556 Stony Highlands, Drai...        <NA>   \n",
       "49  {\"mailing_address\": \"P.O. Box 78685, Lenox, Te...        <NA>   \n",
       "54  {\"mailing_address\": \"445 Dale Hollow, Vermont ...        <NA>   \n",
       "\n",
       "    num_courses_taken  hours_to_complete  time_spent_hrs                 job  \\\n",
       "15                  0                NaN            <NA>           education   \n",
       "19                 13                NaN            <NA>                  HR   \n",
       "30                  5                NaN            <NA>            engineer   \n",
       "49                  2                NaN            <NA>  software developer   \n",
       "54                 14                NaN            <NA>  software developer   \n",
       "\n",
       "    avg_salary  \n",
       "15     61000.0  \n",
       "19     80000.0  \n",
       "30    101000.0  \n",
       "49    110000.0  \n",
       "54    110000.0  "
      ]
     },
     "execution_count": 20,
     "metadata": {},
     "output_type": "execute_result"
    }
   ],
   "source": [
    "df[df['course_name'].isnull()].head()"
   ]
  },
  {
   "cell_type": "markdown",
   "metadata": {},
   "source": [
    "#### What is the most common job?"
   ]
  },
  {
   "cell_type": "code",
   "execution_count": 21,
   "metadata": {},
   "outputs": [
    {
     "data": {
      "text/plain": [
       "job\n",
       "engineer              706\n",
       "analytics             693\n",
       "HR                    680\n",
       "software developer    675\n",
       "creative              671\n",
       "financial services    660\n",
       "education             657\n",
       "student               253\n",
       "Name: count, dtype: int64"
      ]
     },
     "execution_count": 21,
     "metadata": {},
     "output_type": "execute_result"
    }
   ],
   "source": [
    "df.job.value_counts()"
   ]
  },
  {
   "cell_type": "markdown",
   "metadata": {},
   "source": [
    "#### What is the average salary of an engineer?"
   ]
  },
  {
   "cell_type": "code",
   "execution_count": 22,
   "metadata": {},
   "outputs": [
    {
     "data": {
      "text/html": [
       "<div>\n",
       "<style scoped>\n",
       "    .dataframe tbody tr th:only-of-type {\n",
       "        vertical-align: middle;\n",
       "    }\n",
       "\n",
       "    .dataframe tbody tr th {\n",
       "        vertical-align: top;\n",
       "    }\n",
       "\n",
       "    .dataframe thead th {\n",
       "        text-align: right;\n",
       "    }\n",
       "</style>\n",
       "<table border=\"1\" class=\"dataframe\">\n",
       "  <thead>\n",
       "    <tr style=\"text-align: right;\">\n",
       "      <th></th>\n",
       "      <th>uuid</th>\n",
       "      <th>name</th>\n",
       "      <th>dob</th>\n",
       "      <th>sex</th>\n",
       "      <th>contact_info</th>\n",
       "      <th>course_name</th>\n",
       "      <th>num_courses_taken</th>\n",
       "      <th>hours_to_complete</th>\n",
       "      <th>time_spent_hrs</th>\n",
       "      <th>job</th>\n",
       "      <th>avg_salary</th>\n",
       "    </tr>\n",
       "  </thead>\n",
       "  <tbody>\n",
       "    <tr>\n",
       "      <th>6</th>\n",
       "      <td>7</td>\n",
       "      <td>Terrell Bleijenberg</td>\n",
       "      <td>1959-05-05</td>\n",
       "      <td>M</td>\n",
       "      <td>{\"mailing_address\": \"P.O. Box 53471, Oskaloosa...</td>\n",
       "      <td>android developer</td>\n",
       "      <td>9</td>\n",
       "      <td>27.0</td>\n",
       "      <td>24.17</td>\n",
       "      <td>engineer</td>\n",
       "      <td>101000.0</td>\n",
       "    </tr>\n",
       "  </tbody>\n",
       "</table>\n",
       "</div>"
      ],
      "text/plain": [
       "   uuid                 name        dob sex  \\\n",
       "6     7  Terrell Bleijenberg 1959-05-05   M   \n",
       "\n",
       "                                        contact_info        course_name  \\\n",
       "6  {\"mailing_address\": \"P.O. Box 53471, Oskaloosa...  android developer   \n",
       "\n",
       "   num_courses_taken  hours_to_complete  time_spent_hrs       job  avg_salary  \n",
       "6                  9               27.0           24.17  engineer    101000.0  "
      ]
     },
     "execution_count": 22,
     "metadata": {},
     "output_type": "execute_result"
    }
   ],
   "source": [
    "df.query('job == \"engineer\"').head(1)"
   ]
  },
  {
   "cell_type": "code",
   "execution_count": 23,
   "metadata": {},
   "outputs": [
    {
     "data": {
      "text/plain": [
       "<IntegerArray>\n",
       "[6, 5, 8, 7, 14, 10, 9, 3, 15, 13, 0, 4, 2, <NA>, 12, 11, 1]\n",
       "Length: 17, dtype: Int64"
      ]
     },
     "execution_count": 23,
     "metadata": {},
     "output_type": "execute_result"
    }
   ],
   "source": [
    "df.num_courses_taken.unique()"
   ]
  },
  {
   "cell_type": "markdown",
   "metadata": {},
   "source": [
    "Taking a look at which row/column pairs contain null values, it is reasonable to conclude this is a case of Missing Not At Random (MNAR). This is due to the observation where hours_to_complete and time_spent_hrs are null due to missing values in course_name. This likely occurs when a user drops their account without ever taking a course at all, resulting in no hours spent on any courses. In other words, when a value is null in course_name, it will also be null in hours_to_complete and time_spent_hrs. This will make the imputation step straight forward when filling these missing rows.\n",
    "\n",
    "Now regarding the num_courses_taken missing values, this is interesting that there are missing values as well as values of 0. The most logical imputation for this feature is going to be filling null values with 0, since 0 and missing values represent the same thing for this feature. This is not always the case, but for this feature it will work.\n",
    "\n",
    "Filling the 5 job/avg_salary values will be as simple as using the most common job title along with its respective average salary."
   ]
  },
  {
   "cell_type": "code",
   "execution_count": 24,
   "metadata": {},
   "outputs": [
    {
     "data": {
      "text/plain": [
       "uuid                 0\n",
       "name                 0\n",
       "dob                  0\n",
       "sex                  0\n",
       "contact_info         0\n",
       "course_name          0\n",
       "num_courses_taken    0\n",
       "hours_to_complete    0\n",
       "time_spent_hrs       0\n",
       "job                  0\n",
       "avg_salary           0\n",
       "dtype: int64"
      ]
     },
     "execution_count": 24,
     "metadata": {},
     "output_type": "execute_result"
    }
   ],
   "source": [
    "# Replace missing values in course_name with 'None'\n",
    "df['course_name'].fillna('None', inplace=True)\n",
    "\n",
    "# Fill missing values with 0 for num_courses_taken, hours_to_complete, and time_spent_hrs\n",
    "df[['num_courses_taken', \n",
    "    'hours_to_complete', \n",
    "    'time_spent_hrs']] = df[['num_courses_taken', \n",
    "                             'hours_to_complete', \n",
    "                             'time_spent_hrs']].fillna(0)\n",
    "\n",
    "# Fill missing values in job with 'engineer' and avg_salary with 101000\n",
    "df['job'].fillna('engineer', inplace=True)\n",
    "df['avg_salary'].fillna(101000, inplace=True)\n",
    "\n",
    "# Verify the changes\n",
    "df.isnull().sum()"
   ]
  },
  {
   "cell_type": "markdown",
   "metadata": {},
   "source": [
    "#### Verify no duplicates are left"
   ]
  },
  {
   "cell_type": "code",
   "execution_count": 25,
   "metadata": {},
   "outputs": [
    {
     "name": "stdout",
     "output_type": "stream",
     "text": [
      "There are a total of 0 duplicates in this dataset.\n"
     ]
    }
   ],
   "source": [
    "def duplicates(dataframe):\n",
    "    before = dataframe.shape[0]\n",
    "    dataframe = dataframe.drop_duplicates()\n",
    "    after = dataframe.shape[0]\n",
    "\n",
    "    total_duplicates = before - after\n",
    "    print(f\"There are a total of {total_duplicates} duplicates in this dataset.\")\n",
    "    \n",
    "duplicates(df)"
   ]
  },
  {
   "cell_type": "markdown",
   "metadata": {},
   "source": [
    "#### Taking a look at the final cleaned dataset"
   ]
  },
  {
   "cell_type": "code",
   "execution_count": 26,
   "metadata": {},
   "outputs": [
    {
     "data": {
      "text/html": [
       "<div>\n",
       "<style scoped>\n",
       "    .dataframe tbody tr th:only-of-type {\n",
       "        vertical-align: middle;\n",
       "    }\n",
       "\n",
       "    .dataframe tbody tr th {\n",
       "        vertical-align: top;\n",
       "    }\n",
       "\n",
       "    .dataframe thead th {\n",
       "        text-align: right;\n",
       "    }\n",
       "</style>\n",
       "<table border=\"1\" class=\"dataframe\">\n",
       "  <thead>\n",
       "    <tr style=\"text-align: right;\">\n",
       "      <th></th>\n",
       "      <th>uuid</th>\n",
       "      <th>dob</th>\n",
       "      <th>num_courses_taken</th>\n",
       "      <th>hours_to_complete</th>\n",
       "      <th>time_spent_hrs</th>\n",
       "      <th>avg_salary</th>\n",
       "    </tr>\n",
       "  </thead>\n",
       "  <tbody>\n",
       "    <tr>\n",
       "      <th>count</th>\n",
       "      <td>5000.000000</td>\n",
       "      <td>5000</td>\n",
       "      <td>5000.0</td>\n",
       "      <td>5000.000000</td>\n",
       "      <td>5000.0</td>\n",
       "      <td>5000.000000</td>\n",
       "    </tr>\n",
       "    <tr>\n",
       "      <th>mean</th>\n",
       "      <td>2500.500000</td>\n",
       "      <td>1973-03-15 17:21:59.040000</td>\n",
       "      <td>7.1554</td>\n",
       "      <td>19.712600</td>\n",
       "      <td>10.435382</td>\n",
       "      <td>87210.400000</td>\n",
       "    </tr>\n",
       "    <tr>\n",
       "      <th>min</th>\n",
       "      <td>1.000000</td>\n",
       "      <td>1942-01-10 00:00:00</td>\n",
       "      <td>0.0</td>\n",
       "      <td>0.000000</td>\n",
       "      <td>0.0</td>\n",
       "      <td>10000.000000</td>\n",
       "    </tr>\n",
       "    <tr>\n",
       "      <th>25%</th>\n",
       "      <td>1250.750000</td>\n",
       "      <td>1957-03-07 18:00:00</td>\n",
       "      <td>3.0</td>\n",
       "      <td>15.000000</td>\n",
       "      <td>3.68</td>\n",
       "      <td>66000.000000</td>\n",
       "    </tr>\n",
       "    <tr>\n",
       "      <th>50%</th>\n",
       "      <td>2500.500000</td>\n",
       "      <td>1972-12-07 12:00:00</td>\n",
       "      <td>7.0</td>\n",
       "      <td>20.000000</td>\n",
       "      <td>9.665</td>\n",
       "      <td>86000.000000</td>\n",
       "    </tr>\n",
       "    <tr>\n",
       "      <th>75%</th>\n",
       "      <td>3750.250000</td>\n",
       "      <td>1988-10-30 00:00:00</td>\n",
       "      <td>11.0</td>\n",
       "      <td>27.000000</td>\n",
       "      <td>15.84</td>\n",
       "      <td>110000.000000</td>\n",
       "    </tr>\n",
       "    <tr>\n",
       "      <th>max</th>\n",
       "      <td>5000.000000</td>\n",
       "      <td>2004-12-28 00:00:00</td>\n",
       "      <td>15.0</td>\n",
       "      <td>35.000000</td>\n",
       "      <td>35.98</td>\n",
       "      <td>135000.000000</td>\n",
       "    </tr>\n",
       "    <tr>\n",
       "      <th>std</th>\n",
       "      <td>1443.520003</td>\n",
       "      <td>NaN</td>\n",
       "      <td>4.784415</td>\n",
       "      <td>8.774657</td>\n",
       "      <td>7.946934</td>\n",
       "      <td>29297.784965</td>\n",
       "    </tr>\n",
       "  </tbody>\n",
       "</table>\n",
       "</div>"
      ],
      "text/plain": [
       "              uuid                         dob  num_courses_taken  \\\n",
       "count  5000.000000                        5000             5000.0   \n",
       "mean   2500.500000  1973-03-15 17:21:59.040000             7.1554   \n",
       "min       1.000000         1942-01-10 00:00:00                0.0   \n",
       "25%    1250.750000         1957-03-07 18:00:00                3.0   \n",
       "50%    2500.500000         1972-12-07 12:00:00                7.0   \n",
       "75%    3750.250000         1988-10-30 00:00:00               11.0   \n",
       "max    5000.000000         2004-12-28 00:00:00               15.0   \n",
       "std    1443.520003                         NaN           4.784415   \n",
       "\n",
       "       hours_to_complete  time_spent_hrs     avg_salary  \n",
       "count        5000.000000          5000.0    5000.000000  \n",
       "mean           19.712600       10.435382   87210.400000  \n",
       "min             0.000000             0.0   10000.000000  \n",
       "25%            15.000000            3.68   66000.000000  \n",
       "50%            20.000000           9.665   86000.000000  \n",
       "75%            27.000000           15.84  110000.000000  \n",
       "max            35.000000           35.98  135000.000000  \n",
       "std             8.774657        7.946934   29297.784965  "
      ]
     },
     "execution_count": 26,
     "metadata": {},
     "output_type": "execute_result"
    }
   ],
   "source": [
    "df.describe()"
   ]
  },
  {
   "cell_type": "code",
   "execution_count": 27,
   "metadata": {},
   "outputs": [
    {
     "name": "stdout",
     "output_type": "stream",
     "text": [
      "<class 'pandas.core.frame.DataFrame'>\n",
      "RangeIndex: 5000 entries, 0 to 4999\n",
      "Data columns (total 11 columns):\n",
      " #   Column             Non-Null Count  Dtype         \n",
      "---  ------             --------------  -----         \n",
      " 0   uuid               5000 non-null   int64         \n",
      " 1   name               5000 non-null   string        \n",
      " 2   dob                5000 non-null   datetime64[ns]\n",
      " 3   sex                5000 non-null   category      \n",
      " 4   contact_info       5000 non-null   object        \n",
      " 5   course_name        5000 non-null   string        \n",
      " 6   num_courses_taken  5000 non-null   Int64         \n",
      " 7   hours_to_complete  5000 non-null   float64       \n",
      " 8   time_spent_hrs     5000 non-null   Float64       \n",
      " 9   job                5000 non-null   object        \n",
      " 10  avg_salary         5000 non-null   float64       \n",
      "dtypes: Float64(1), Int64(1), category(1), datetime64[ns](1), float64(2), int64(1), object(2), string(2)\n",
      "memory usage: 405.5+ KB\n"
     ]
    }
   ],
   "source": [
    "df.info()"
   ]
  },
  {
   "cell_type": "code",
   "execution_count": 28,
   "metadata": {},
   "outputs": [
    {
     "name": "stdout",
     "output_type": "stream",
     "text": [
      "(5000, 11)\n"
     ]
    },
    {
     "data": {
      "text/html": [
       "<div>\n",
       "<style scoped>\n",
       "    .dataframe tbody tr th:only-of-type {\n",
       "        vertical-align: middle;\n",
       "    }\n",
       "\n",
       "    .dataframe tbody tr th {\n",
       "        vertical-align: top;\n",
       "    }\n",
       "\n",
       "    .dataframe thead th {\n",
       "        text-align: right;\n",
       "    }\n",
       "</style>\n",
       "<table border=\"1\" class=\"dataframe\">\n",
       "  <thead>\n",
       "    <tr style=\"text-align: right;\">\n",
       "      <th></th>\n",
       "      <th>uuid</th>\n",
       "      <th>name</th>\n",
       "      <th>dob</th>\n",
       "      <th>sex</th>\n",
       "      <th>contact_info</th>\n",
       "      <th>course_name</th>\n",
       "      <th>num_courses_taken</th>\n",
       "      <th>hours_to_complete</th>\n",
       "      <th>time_spent_hrs</th>\n",
       "      <th>job</th>\n",
       "      <th>avg_salary</th>\n",
       "    </tr>\n",
       "  </thead>\n",
       "  <tbody>\n",
       "    <tr>\n",
       "      <th>0</th>\n",
       "      <td>1</td>\n",
       "      <td>Annabelle Avery</td>\n",
       "      <td>1943-07-03</td>\n",
       "      <td>F</td>\n",
       "      <td>{\"mailing_address\": \"303 N Timber Key, Irondal...</td>\n",
       "      <td>data scientist</td>\n",
       "      <td>6</td>\n",
       "      <td>20.0</td>\n",
       "      <td>4.99</td>\n",
       "      <td>HR</td>\n",
       "      <td>80000.0</td>\n",
       "    </tr>\n",
       "    <tr>\n",
       "      <th>1</th>\n",
       "      <td>2</td>\n",
       "      <td>Micah Rubio</td>\n",
       "      <td>1991-02-07</td>\n",
       "      <td>M</td>\n",
       "      <td>{\"mailing_address\": \"767 Crescent Fair, Shoals...</td>\n",
       "      <td>android developer</td>\n",
       "      <td>5</td>\n",
       "      <td>27.0</td>\n",
       "      <td>4.4</td>\n",
       "      <td>HR</td>\n",
       "      <td>80000.0</td>\n",
       "    </tr>\n",
       "    <tr>\n",
       "      <th>2</th>\n",
       "      <td>3</td>\n",
       "      <td>Hosea Dale</td>\n",
       "      <td>1989-12-07</td>\n",
       "      <td>M</td>\n",
       "      <td>{\"mailing_address\": \"P.O. Box 41269, St. Bonav...</td>\n",
       "      <td>android developer</td>\n",
       "      <td>8</td>\n",
       "      <td>27.0</td>\n",
       "      <td>6.74</td>\n",
       "      <td>HR</td>\n",
       "      <td>80000.0</td>\n",
       "    </tr>\n",
       "    <tr>\n",
       "      <th>3</th>\n",
       "      <td>4</td>\n",
       "      <td>Mariann Kirk</td>\n",
       "      <td>1988-07-31</td>\n",
       "      <td>F</td>\n",
       "      <td>{\"mailing_address\": \"517 SE Wintergreen Isle, ...</td>\n",
       "      <td>machine learning engineer</td>\n",
       "      <td>7</td>\n",
       "      <td>35.0</td>\n",
       "      <td>12.31</td>\n",
       "      <td>education</td>\n",
       "      <td>61000.0</td>\n",
       "    </tr>\n",
       "    <tr>\n",
       "      <th>4</th>\n",
       "      <td>5</td>\n",
       "      <td>Lucio Alexander</td>\n",
       "      <td>1963-08-31</td>\n",
       "      <td>M</td>\n",
       "      <td>{\"mailing_address\": \"18 Cinder Cliff, Doyles b...</td>\n",
       "      <td>data analyst</td>\n",
       "      <td>14</td>\n",
       "      <td>12.0</td>\n",
       "      <td>5.64</td>\n",
       "      <td>HR</td>\n",
       "      <td>80000.0</td>\n",
       "    </tr>\n",
       "  </tbody>\n",
       "</table>\n",
       "</div>"
      ],
      "text/plain": [
       "   uuid             name        dob sex  \\\n",
       "0     1  Annabelle Avery 1943-07-03   F   \n",
       "1     2      Micah Rubio 1991-02-07   M   \n",
       "2     3       Hosea Dale 1989-12-07   M   \n",
       "3     4     Mariann Kirk 1988-07-31   F   \n",
       "4     5  Lucio Alexander 1963-08-31   M   \n",
       "\n",
       "                                        contact_info  \\\n",
       "0  {\"mailing_address\": \"303 N Timber Key, Irondal...   \n",
       "1  {\"mailing_address\": \"767 Crescent Fair, Shoals...   \n",
       "2  {\"mailing_address\": \"P.O. Box 41269, St. Bonav...   \n",
       "3  {\"mailing_address\": \"517 SE Wintergreen Isle, ...   \n",
       "4  {\"mailing_address\": \"18 Cinder Cliff, Doyles b...   \n",
       "\n",
       "                 course_name  num_courses_taken  hours_to_complete  \\\n",
       "0             data scientist                  6               20.0   \n",
       "1          android developer                  5               27.0   \n",
       "2          android developer                  8               27.0   \n",
       "3  machine learning engineer                  7               35.0   \n",
       "4               data analyst                 14               12.0   \n",
       "\n",
       "   time_spent_hrs        job  avg_salary  \n",
       "0            4.99         HR     80000.0  \n",
       "1             4.4         HR     80000.0  \n",
       "2            6.74         HR     80000.0  \n",
       "3           12.31  education     61000.0  \n",
       "4            5.64         HR     80000.0  "
      ]
     },
     "execution_count": 28,
     "metadata": {},
     "output_type": "execute_result"
    }
   ],
   "source": [
    "print(df.shape) # (rows, columns)\n",
    "df.head()"
   ]
  },
  {
   "cell_type": "markdown",
   "metadata": {},
   "source": [
    "#### Saving the dataframe to SQLite Database and a Flat CSV file for further analysis"
   ]
  },
  {
   "cell_type": "code",
   "execution_count": 30,
   "metadata": {},
   "outputs": [
    {
     "name": "stdout",
     "output_type": "stream",
     "text": [
      "CSV file 'cademy_stats.csv' has been created successfully.\n"
     ]
    }
   ],
   "source": [
    "# Export dataframe to CSV\n",
    "df.to_csv('cademy_stats.csv', index=False)\n",
    "print(\"CSV file 'cademy_stats.csv' has been created successfully.\")"
   ]
  },
  {
   "cell_type": "code",
   "execution_count": 31,
   "metadata": {},
   "outputs": [
    {
     "name": "stdout",
     "output_type": "stream",
     "text": [
      "SQLite table 'cademy_stats' has been created successfully.\n"
     ]
    }
   ],
   "source": [
    "# Export dataframe to SQLite table\n",
    "df.to_sql('cademy_stats', connection, if_exists='replace', index=False)\n",
    "print(\"SQLite table 'cademy_stats' has been created successfully.\")"
   ]
  },
  {
   "cell_type": "code",
   "execution_count": 32,
   "metadata": {},
   "outputs": [
    {
     "name": "stdout",
     "output_type": "stream",
     "text": [
      "SQLite connection closed.\n"
     ]
    }
   ],
   "source": [
    "# Close the connection\n",
    "connection.close()\n",
    "print(\"SQLite connection closed.\")"
   ]
  }
 ],
 "metadata": {
  "kernelspec": {
   "display_name": "Python 3",
   "language": "python",
   "name": "python3"
  },
  "language_info": {
   "codemirror_mode": {
    "name": "ipython",
    "version": 3
   },
   "file_extension": ".py",
   "mimetype": "text/x-python",
   "name": "python",
   "nbconvert_exporter": "python",
   "pygments_lexer": "ipython3",
   "version": "3.12.3"
  }
 },
 "nbformat": 4,
 "nbformat_minor": 2
}
